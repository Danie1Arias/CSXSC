{
 "cells": [
  {
   "cell_type": "markdown",
   "id": "08efc43d",
   "metadata": {},
   "source": [
    "# Classificador de Sentiments a Xarxes Socials en Català (CSXSC): Fine-Tuning Model\n",
    "\n",
    "**Author:** Daniel Arias Cámara  \n",
    "**Date:** 07-2025  \n",
    "\n",
    "**Description:**  This notebook presents the fine-tuning process of the **CSXSC** model, designed to classify social media reviews in Catalan into three categories: positive, negative, and neutral.\n",
    "\n",
    "The base model for CSXSC is [roberta-base-ca-v2](https://huggingface.co/projecte-aina/roberta-base-ca-v2), a Catalan adaptation of RoBERTa, an encoder-only transformer architecture well-suited for text classification tasks.\n",
    "\n",
    "This model is provided by Aina Kit and trained on a diverse Catalan corpus, including Catalan Crawling, Wikipedia, the Official Gazette of the Government of Catalonia (DOGC), and other publicly available datasets."
   ]
  },
  {
   "cell_type": "code",
   "execution_count": 1,
   "id": "7e9e63e3",
   "metadata": {},
   "outputs": [
    {
     "name": "stderr",
     "output_type": "stream",
     "text": [
      "/home/user/anaconda3/envs/ai/lib/python3.13/site-packages/tqdm/auto.py:21: TqdmWarning: IProgress not found. Please update jupyter and ipywidgets. See https://ipywidgets.readthedocs.io/en/stable/user_install.html\n",
      "  from .autonotebook import tqdm as notebook_tqdm\n"
     ]
    }
   ],
   "source": [
    "from datasets import load_dataset\n",
    "\n",
    "data_files = {\n",
    "    \"train\": \"./train.csv\",\n",
    "    \"validation\": \"./validation.csv\",\n",
    "    \"test\": \"./test.csv\"\n",
    "}\n",
    "\n",
    "dataset = load_dataset(\"csv\", data_files=data_files)"
   ]
  },
  {
   "cell_type": "code",
   "execution_count": 2,
   "id": "b78ffbfc",
   "metadata": {},
   "outputs": [
    {
     "name": "stdout",
     "output_type": "stream",
     "text": [
      "{'text': 'Desvergonyidament robat de Tres Sabors Cornetto Posting', 'label': 'negative'}\n"
     ]
    }
   ],
   "source": [
    "print(dataset[\"train\"][0])"
   ]
  },
  {
   "cell_type": "code",
   "execution_count": 3,
   "id": "d2f6f954",
   "metadata": {},
   "outputs": [
    {
     "name": "stderr",
     "output_type": "stream",
     "text": [
      "Some weights of RobertaForSequenceClassification were not initialized from the model checkpoint at projecte-aina/roberta-base-ca-v2 and are newly initialized: ['classifier.dense.bias', 'classifier.dense.weight', 'classifier.out_proj.bias', 'classifier.out_proj.weight']\n",
      "You should probably TRAIN this model on a down-stream task to be able to use it for predictions and inference.\n"
     ]
    }
   ],
   "source": [
    "from transformers import AutoTokenizer, AutoModelForSequenceClassification\n",
    "\n",
    "tokenizer = AutoTokenizer.from_pretrained(\"projecte-aina/roberta-base-ca-v2\")\n",
    "tokenizer.padding_side = \"right\"\n",
    "\n",
    "model = AutoModelForSequenceClassification.from_pretrained(\"projecte-aina/roberta-base-ca-v2\", num_labels=3)"
   ]
  },
  {
   "cell_type": "code",
   "execution_count": 4,
   "id": "28fb2141",
   "metadata": {},
   "outputs": [],
   "source": [
    "label2id = {\"negative\": 0, \"neutral\": 1, \"positive\": 2}\n",
    "\n",
    "def map_label(example):\n",
    "    if isinstance(example[\"label\"], str):\n",
    "        label_lower = example[\"label\"].strip().lower()\n",
    "        if label_lower in label2id:\n",
    "            example[\"label\"] = label2id[label_lower]\n",
    "        else:\n",
    "            raise ValueError(f\"Unexpected label: {example['label']}\")\n",
    "    return example\n",
    "\n",
    "dataset = dataset.map(map_label)"
   ]
  },
  {
   "cell_type": "code",
   "execution_count": 5,
   "id": "c07c6dda",
   "metadata": {},
   "outputs": [
    {
     "name": "stderr",
     "output_type": "stream",
     "text": [
      "Map: 100%|██████████| 2379/2379 [00:00<00:00, 17053.28 examples/s]\n"
     ]
    }
   ],
   "source": [
    "def preprocess_function(examples):\n",
    "    return tokenizer(\n",
    "        examples[\"text\"],\n",
    "        padding=\"max_length\",\n",
    "        truncation=True,\n",
    "        max_length=128\n",
    "    )\n",
    "\n",
    "tokenized_datasets = dataset.map(preprocess_function, batched=True)"
   ]
  },
  {
   "cell_type": "code",
   "execution_count": 6,
   "id": "d58edbcf",
   "metadata": {},
   "outputs": [],
   "source": [
    "tokenized_datasets = tokenized_datasets.rename_column(\"label\", \"labels\")\n",
    "tokenized_datasets = tokenized_datasets.remove_columns([\"text\"])\n",
    "tokenized_datasets.set_format(\"torch\")"
   ]
  },
  {
   "cell_type": "code",
   "execution_count": null,
   "id": "b645cfd6",
   "metadata": {},
   "outputs": [
    {
     "name": "stdout",
     "output_type": "stream",
     "text": [
      "\n",
      "Training with LR=2e-05, BS=16, WD=0.01, Epochs=4\n"
     ]
    },
    {
     "name": "stderr",
     "output_type": "stream",
     "text": [
      "/tmp/ipykernel_23849/2393128410.py:45: FutureWarning: `tokenizer` is deprecated and will be removed in version 5.0.0 for `Trainer.__init__`. Use `processing_class` instead.\n",
      "  trainer = Trainer(\n"
     ]
    },
    {
     "data": {
      "text/html": [
       "\n",
       "    <div>\n",
       "      \n",
       "      <progress value='4760' max='4760' style='width:300px; height:20px; vertical-align: middle;'></progress>\n",
       "      [4760/4760 25:57, Epoch 4/4]\n",
       "    </div>\n",
       "    <table border=\"1\" class=\"dataframe\">\n",
       "  <thead>\n",
       " <tr style=\"text-align: left;\">\n",
       "      <th>Epoch</th>\n",
       "      <th>Training Loss</th>\n",
       "      <th>Validation Loss</th>\n",
       "      <th>Accuracy</th>\n",
       "      <th>F1 Macro</th>\n",
       "      <th>F1 Weighted</th>\n",
       "      <th>Qwk</th>\n",
       "    </tr>\n",
       "  </thead>\n",
       "  <tbody>\n",
       "    <tr>\n",
       "      <td>1</td>\n",
       "      <td>0.520000</td>\n",
       "      <td>0.443560</td>\n",
       "      <td>0.817570</td>\n",
       "      <td>0.805957</td>\n",
       "      <td>0.814708</td>\n",
       "      <td>0.847611</td>\n",
       "    </tr>\n",
       "    <tr>\n",
       "      <td>2</td>\n",
       "      <td>0.365900</td>\n",
       "      <td>0.442746</td>\n",
       "      <td>0.823455</td>\n",
       "      <td>0.813727</td>\n",
       "      <td>0.822289</td>\n",
       "      <td>0.858866</td>\n",
       "    </tr>\n",
       "    <tr>\n",
       "      <td>3</td>\n",
       "      <td>0.281000</td>\n",
       "      <td>0.485128</td>\n",
       "      <td>0.827659</td>\n",
       "      <td>0.817250</td>\n",
       "      <td>0.825958</td>\n",
       "      <td>0.860215</td>\n",
       "    </tr>\n",
       "    <tr>\n",
       "      <td>4</td>\n",
       "      <td>0.225000</td>\n",
       "      <td>0.522067</td>\n",
       "      <td>0.836486</td>\n",
       "      <td>0.827488</td>\n",
       "      <td>0.835554</td>\n",
       "      <td>0.869397</td>\n",
       "    </tr>\n",
       "  </tbody>\n",
       "</table><p>"
      ],
      "text/plain": [
       "<IPython.core.display.HTML object>"
      ]
     },
     "metadata": {},
     "output_type": "display_data"
    },
    {
     "data": {
      "text/html": [
       "\n",
       "    <div>\n",
       "      \n",
       "      <progress value='149' max='149' style='width:300px; height:20px; vertical-align: middle;'></progress>\n",
       "      [149/149 00:13]\n",
       "    </div>\n",
       "    "
      ],
      "text/plain": [
       "<IPython.core.display.HTML object>"
      ]
     },
     "metadata": {},
     "output_type": "display_data"
    },
    {
     "name": "stdout",
     "output_type": "stream",
     "text": [
      "\n",
      "Best params: LR=2e-05, BS=16, WD=0.01, Epochs=4 (QWK=0.8694)\n"
     ]
    }
   ],
   "source": [
    "from transformers import Trainer, TrainingArguments\n",
    "import numpy as np\n",
    "from sklearn.metrics import accuracy_score, f1_score, cohen_kappa_score\n",
    "\n",
    "def compute_metrics(eval_pred):\n",
    "    predictions, labels = eval_pred\n",
    "    predictions = np.argmax(predictions, axis=1)\n",
    "\n",
    "    return {\n",
    "        \"eval_accuracy\": accuracy_score(labels, predictions),\n",
    "        \"eval_f1_macro\": f1_score(labels, predictions, average=\"macro\"),\n",
    "        \"eval_f1_weighted\": f1_score(labels, predictions, average=\"weighted\"),\n",
    "        \"eval_qwk\": cohen_kappa_score(labels, predictions, weights=\"quadratic\"),  # NEW\n",
    "    }\n",
    "\n",
    "# Hyperparameters (you can extend this grid later)\n",
    "learning_rates = [2e-5]\n",
    "batch_sizes = [16]\n",
    "weight_decays = [0.01]\n",
    "epoch_options = [4]\n",
    "\n",
    "best_score = -float(\"inf\")\n",
    "best_params = None\n",
    "training_history = []\n",
    "\n",
    "for lr in learning_rates:\n",
    "    for batch_size in batch_sizes:\n",
    "        for wd in weight_decays:\n",
    "            for epochs in epoch_options:\n",
    "                print(f\"\\nTraining with LR={lr}, BS={batch_size}, WD={wd}, Epochs={epochs}\")\n",
    "\n",
    "                training_args = TrainingArguments(\n",
    "                    output_dir=\"./results\",\n",
    "                    eval_strategy=\"epoch\",\n",
    "                    save_strategy=\"no\",\n",
    "                    learning_rate=lr,\n",
    "                    per_device_train_batch_size=batch_size,\n",
    "                    per_device_eval_batch_size=batch_size,\n",
    "                    num_train_epochs=epochs,\n",
    "                    weight_decay=wd,\n",
    "                    logging_strategy=\"epoch\",\n",
    "                    report_to=\"none\"\n",
    "                )\n",
    "\n",
    "                trainer = Trainer(\n",
    "                    model=model,\n",
    "                    args=training_args,\n",
    "                    train_dataset=tokenized_datasets[\"train\"],\n",
    "                    eval_dataset=tokenized_datasets[\"validation\"],\n",
    "                    tokenizer=tokenizer,\n",
    "                    compute_metrics=compute_metrics\n",
    "                )\n",
    "\n",
    "                train_result = trainer.train()\n",
    "                eval_metrics = trainer.evaluate()\n",
    "\n",
    "                # Store metrics + hyperparams\n",
    "                eval_metrics.update({\n",
    "                    \"learning_rate\": lr,\n",
    "                    \"batch_size\": batch_size,\n",
    "                    \"weight_decay\": wd,\n",
    "                    \"epochs\": epochs,\n",
    "                    \"train_loss\": train_result.training_loss\n",
    "                })\n",
    "                training_history.append(eval_metrics)\n",
    "\n",
    "                # Select best model based on QWK (change to eval_f1_macro if preferred)\n",
    "                if eval_metrics[\"eval_qwk\"] > best_score:\n",
    "                    best_score = eval_metrics[\"eval_qwk\"]\n",
    "                    best_params = (lr, batch_size, wd, epochs)\n",
    "\n",
    "print(f\"\\nBest params: LR={best_params[0]}, BS={best_params[1]}, WD={best_params[2]}, \"\n",
    "      f\"Epochs={best_params[3]} (QWK={best_score:.4f})\")\n"
   ]
  }
 ],
 "metadata": {
  "kernelspec": {
   "display_name": "ai",
   "language": "python",
   "name": "python3"
  },
  "language_info": {
   "codemirror_mode": {
    "name": "ipython",
    "version": 3
   },
   "file_extension": ".py",
   "mimetype": "text/x-python",
   "name": "python",
   "nbconvert_exporter": "python",
   "pygments_lexer": "ipython3",
   "version": "3.13.2"
  }
 },
 "nbformat": 4,
 "nbformat_minor": 5
}
