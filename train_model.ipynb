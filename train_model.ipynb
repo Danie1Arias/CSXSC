{
 "cells": [
  {
   "cell_type": "markdown",
   "id": "08efc43d",
   "metadata": {},
   "source": [
    "# Classificador de Sentiments a Xarxes Socials en Català (CSXSC): Fine-Tuning Model\n",
    "\n",
    "**Author:** Daniel Arias Cámara  \n",
    "**Date:** July 2025  \n",
    "\n",
    "**Description:**  This notebook presents the fine-tuning process of the **CSXSC** model, designed to classify social media reviews in Catalan into three categories: positive, negative, and neutral.\n",
    "\n",
    "The base model for CSXSC is [roberta-base-ca-v2](https://huggingface.co/projecte-aina/roberta-base-ca-v2), a Catalan adaptation of RoBERTa, an encoder-only transformer architecture well-suited for text classification tasks.\n",
    "\n",
    "This model is provided by Aina Kit and trained on a diverse Catalan corpus, including Catalan Crawling, Wikipedia, the Official Gazette of the Government of Catalonia (DOGC), and other publicly available datasets."
   ]
  },
  {
   "cell_type": "code",
   "execution_count": 1,
   "id": "7e9e63e3",
   "metadata": {},
   "outputs": [
    {
     "name": "stderr",
     "output_type": "stream",
     "text": [
      "/home/user/anaconda3/envs/ai/lib/python3.13/site-packages/tqdm/auto.py:21: TqdmWarning: IProgress not found. Please update jupyter and ipywidgets. See https://ipywidgets.readthedocs.io/en/stable/user_install.html\n",
      "  from .autonotebook import tqdm as notebook_tqdm\n"
     ]
    }
   ],
   "source": [
    "from datasets import load_dataset\n",
    "\n",
    "data_files = {\n",
    "    \"train\": \"./train.csv\",\n",
    "    \"validation\": \"./validation.csv\",\n",
    "    \"test\": \"./test.csv\"\n",
    "}\n",
    "\n",
    "dataset = load_dataset(\"csv\", data_files=data_files)"
   ]
  },
  {
   "cell_type": "code",
   "execution_count": 2,
   "id": "b78ffbfc",
   "metadata": {},
   "outputs": [
    {
     "name": "stdout",
     "output_type": "stream",
     "text": [
      "{'text': 'Desvergonyidament robat de Tres Sabors Cornetto Posting', 'label': 'negative'}\n"
     ]
    }
   ],
   "source": [
    "print(dataset[\"train\"][0])"
   ]
  },
  {
   "cell_type": "code",
   "execution_count": 3,
   "id": "d2f6f954",
   "metadata": {},
   "outputs": [
    {
     "name": "stderr",
     "output_type": "stream",
     "text": [
      "Some weights of RobertaForSequenceClassification were not initialized from the model checkpoint at projecte-aina/roberta-base-ca-v2 and are newly initialized: ['classifier.dense.bias', 'classifier.dense.weight', 'classifier.out_proj.bias', 'classifier.out_proj.weight']\n",
      "You should probably TRAIN this model on a down-stream task to be able to use it for predictions and inference.\n"
     ]
    }
   ],
   "source": [
    "from transformers import AutoTokenizer, AutoModelForSequenceClassification\n",
    "\n",
    "tokenizer = AutoTokenizer.from_pretrained(\"projecte-aina/roberta-base-ca-v2\")\n",
    "tokenizer.padding_side = \"right\"\n",
    "\n",
    "model = AutoModelForSequenceClassification.from_pretrained(\"projecte-aina/roberta-base-ca-v2\", num_labels=3)"
   ]
  },
  {
   "cell_type": "code",
   "execution_count": 4,
   "id": "28fb2141",
   "metadata": {},
   "outputs": [],
   "source": [
    "label2id = {\"negative\": 0, \"neutral\": 1, \"positive\": 2}\n",
    "\n",
    "def map_label(example):\n",
    "    if isinstance(example[\"label\"], str):\n",
    "        label_lower = example[\"label\"].strip().lower()\n",
    "        if label_lower in label2id:\n",
    "            example[\"label\"] = label2id[label_lower]\n",
    "        else:\n",
    "            raise ValueError(f\"Unexpected label: {example['label']}\")\n",
    "    return example\n",
    "\n",
    "dataset = dataset.map(map_label)"
   ]
  },
  {
   "cell_type": "code",
   "execution_count": 5,
   "id": "c07c6dda",
   "metadata": {},
   "outputs": [],
   "source": [
    "def preprocess_function(examples):\n",
    "    return tokenizer(\n",
    "        examples[\"text\"],\n",
    "        padding=\"max_length\",\n",
    "        truncation=True,\n",
    "        max_length=128\n",
    "    )\n",
    "\n",
    "tokenized_datasets = dataset.map(preprocess_function, batched=True)"
   ]
  },
  {
   "cell_type": "code",
   "execution_count": 6,
   "id": "d58edbcf",
   "metadata": {},
   "outputs": [],
   "source": [
    "tokenized_datasets = tokenized_datasets.rename_column(\"label\", \"labels\")\n",
    "tokenized_datasets = tokenized_datasets.remove_columns([\"text\"])\n",
    "tokenized_datasets.set_format(\"torch\")"
   ]
  },
  {
   "cell_type": "code",
   "execution_count": 7,
   "id": "b645cfd6",
   "metadata": {},
   "outputs": [
    {
     "name": "stdout",
     "output_type": "stream",
     "text": [
      "\n",
      "Training with LR=1e-05, BS=16, WD=0.01, Epochs=4\n"
     ]
    },
    {
     "name": "stderr",
     "output_type": "stream",
     "text": [
      "/tmp/ipykernel_28166/995950262.py:45: FutureWarning: `tokenizer` is deprecated and will be removed in version 5.0.0 for `Trainer.__init__`. Use `processing_class` instead.\n",
      "  trainer = Trainer(\n"
     ]
    },
    {
     "data": {
      "text/html": [
       "\n",
       "    <div>\n",
       "      \n",
       "      <progress value='4760' max='4760' style='width:300px; height:20px; vertical-align: middle;'></progress>\n",
       "      [4760/4760 26:04, Epoch 4/4]\n",
       "    </div>\n",
       "    <table border=\"1\" class=\"dataframe\">\n",
       "  <thead>\n",
       " <tr style=\"text-align: left;\">\n",
       "      <th>Epoch</th>\n",
       "      <th>Training Loss</th>\n",
       "      <th>Validation Loss</th>\n",
       "      <th>Accuracy</th>\n",
       "      <th>F1 Macro</th>\n",
       "      <th>F1 Weighted</th>\n",
       "      <th>Qwk</th>\n",
       "    </tr>\n",
       "  </thead>\n",
       "  <tbody>\n",
       "    <tr>\n",
       "      <td>1</td>\n",
       "      <td>0.557900</td>\n",
       "      <td>0.455779</td>\n",
       "      <td>0.812947</td>\n",
       "      <td>0.800632</td>\n",
       "      <td>0.809711</td>\n",
       "      <td>0.840961</td>\n",
       "    </tr>\n",
       "    <tr>\n",
       "      <td>2</td>\n",
       "      <td>0.402600</td>\n",
       "      <td>0.448152</td>\n",
       "      <td>0.820513</td>\n",
       "      <td>0.809650</td>\n",
       "      <td>0.818270</td>\n",
       "      <td>0.855237</td>\n",
       "    </tr>\n",
       "    <tr>\n",
       "      <td>3</td>\n",
       "      <td>0.344400</td>\n",
       "      <td>0.464729</td>\n",
       "      <td>0.822615</td>\n",
       "      <td>0.810627</td>\n",
       "      <td>0.819364</td>\n",
       "      <td>0.857182</td>\n",
       "    </tr>\n",
       "    <tr>\n",
       "      <td>4</td>\n",
       "      <td>0.304900</td>\n",
       "      <td>0.470126</td>\n",
       "      <td>0.824716</td>\n",
       "      <td>0.813499</td>\n",
       "      <td>0.822082</td>\n",
       "      <td>0.859951</td>\n",
       "    </tr>\n",
       "  </tbody>\n",
       "</table><p>"
      ],
      "text/plain": [
       "<IPython.core.display.HTML object>"
      ]
     },
     "metadata": {},
     "output_type": "display_data"
    },
    {
     "data": {
      "text/html": [
       "\n",
       "    <div>\n",
       "      \n",
       "      <progress value='149' max='149' style='width:300px; height:20px; vertical-align: middle;'></progress>\n",
       "      [149/149 00:13]\n",
       "    </div>\n",
       "    "
      ],
      "text/plain": [
       "<IPython.core.display.HTML object>"
      ]
     },
     "metadata": {},
     "output_type": "display_data"
    },
    {
     "name": "stdout",
     "output_type": "stream",
     "text": [
      "\n",
      "Training with LR=1e-05, BS=16, WD=0.01, Epochs=5\n"
     ]
    },
    {
     "name": "stderr",
     "output_type": "stream",
     "text": [
      "/tmp/ipykernel_28166/995950262.py:45: FutureWarning: `tokenizer` is deprecated and will be removed in version 5.0.0 for `Trainer.__init__`. Use `processing_class` instead.\n",
      "  trainer = Trainer(\n"
     ]
    },
    {
     "data": {
      "text/html": [
       "\n",
       "    <div>\n",
       "      \n",
       "      <progress value='5950' max='5950' style='width:300px; height:20px; vertical-align: middle;'></progress>\n",
       "      [5950/5950 32:25, Epoch 5/5]\n",
       "    </div>\n",
       "    <table border=\"1\" class=\"dataframe\">\n",
       "  <thead>\n",
       " <tr style=\"text-align: left;\">\n",
       "      <th>Epoch</th>\n",
       "      <th>Training Loss</th>\n",
       "      <th>Validation Loss</th>\n",
       "      <th>Accuracy</th>\n",
       "      <th>F1 Macro</th>\n",
       "      <th>F1 Weighted</th>\n",
       "      <th>Qwk</th>\n",
       "    </tr>\n",
       "  </thead>\n",
       "  <tbody>\n",
       "    <tr>\n",
       "      <td>1</td>\n",
       "      <td>0.285000</td>\n",
       "      <td>0.522090</td>\n",
       "      <td>0.819252</td>\n",
       "      <td>0.808781</td>\n",
       "      <td>0.817830</td>\n",
       "      <td>0.855444</td>\n",
       "    </tr>\n",
       "    <tr>\n",
       "      <td>2</td>\n",
       "      <td>0.225000</td>\n",
       "      <td>0.562841</td>\n",
       "      <td>0.829340</td>\n",
       "      <td>0.818097</td>\n",
       "      <td>0.826921</td>\n",
       "      <td>0.867829</td>\n",
       "    </tr>\n",
       "    <tr>\n",
       "      <td>3</td>\n",
       "      <td>0.200600</td>\n",
       "      <td>0.605627</td>\n",
       "      <td>0.820513</td>\n",
       "      <td>0.809588</td>\n",
       "      <td>0.818594</td>\n",
       "      <td>0.858273</td>\n",
       "    </tr>\n",
       "    <tr>\n",
       "      <td>4</td>\n",
       "      <td>0.188000</td>\n",
       "      <td>0.642840</td>\n",
       "      <td>0.826398</td>\n",
       "      <td>0.815560</td>\n",
       "      <td>0.824500</td>\n",
       "      <td>0.864920</td>\n",
       "    </tr>\n",
       "    <tr>\n",
       "      <td>5</td>\n",
       "      <td>0.177500</td>\n",
       "      <td>0.656202</td>\n",
       "      <td>0.826398</td>\n",
       "      <td>0.816389</td>\n",
       "      <td>0.825345</td>\n",
       "      <td>0.863596</td>\n",
       "    </tr>\n",
       "  </tbody>\n",
       "</table><p>"
      ],
      "text/plain": [
       "<IPython.core.display.HTML object>"
      ]
     },
     "metadata": {},
     "output_type": "display_data"
    },
    {
     "data": {
      "text/html": [
       "\n",
       "    <div>\n",
       "      \n",
       "      <progress value='149' max='149' style='width:300px; height:20px; vertical-align: middle;'></progress>\n",
       "      [149/149 00:13]\n",
       "    </div>\n",
       "    "
      ],
      "text/plain": [
       "<IPython.core.display.HTML object>"
      ]
     },
     "metadata": {},
     "output_type": "display_data"
    },
    {
     "name": "stdout",
     "output_type": "stream",
     "text": [
      "\n",
      "Training with LR=1e-05, BS=16, WD=0.05, Epochs=4\n"
     ]
    },
    {
     "name": "stderr",
     "output_type": "stream",
     "text": [
      "/tmp/ipykernel_28166/995950262.py:45: FutureWarning: `tokenizer` is deprecated and will be removed in version 5.0.0 for `Trainer.__init__`. Use `processing_class` instead.\n",
      "  trainer = Trainer(\n"
     ]
    },
    {
     "data": {
      "text/html": [
       "\n",
       "    <div>\n",
       "      \n",
       "      <progress value='4760' max='4760' style='width:300px; height:20px; vertical-align: middle;'></progress>\n",
       "      [4760/4760 25:52, Epoch 4/4]\n",
       "    </div>\n",
       "    <table border=\"1\" class=\"dataframe\">\n",
       "  <thead>\n",
       " <tr style=\"text-align: left;\">\n",
       "      <th>Epoch</th>\n",
       "      <th>Training Loss</th>\n",
       "      <th>Validation Loss</th>\n",
       "      <th>Accuracy</th>\n",
       "      <th>F1 Macro</th>\n",
       "      <th>F1 Weighted</th>\n",
       "      <th>Qwk</th>\n",
       "    </tr>\n",
       "  </thead>\n",
       "  <tbody>\n",
       "    <tr>\n",
       "      <td>1</td>\n",
       "      <td>0.137200</td>\n",
       "      <td>0.809429</td>\n",
       "      <td>0.814208</td>\n",
       "      <td>0.801409</td>\n",
       "      <td>0.811111</td>\n",
       "      <td>0.850343</td>\n",
       "    </tr>\n",
       "    <tr>\n",
       "      <td>2</td>\n",
       "      <td>0.112200</td>\n",
       "      <td>0.766051</td>\n",
       "      <td>0.821774</td>\n",
       "      <td>0.809838</td>\n",
       "      <td>0.818673</td>\n",
       "      <td>0.861075</td>\n",
       "    </tr>\n",
       "    <tr>\n",
       "      <td>3</td>\n",
       "      <td>0.094000</td>\n",
       "      <td>0.868380</td>\n",
       "      <td>0.817991</td>\n",
       "      <td>0.807416</td>\n",
       "      <td>0.816740</td>\n",
       "      <td>0.854913</td>\n",
       "    </tr>\n",
       "    <tr>\n",
       "      <td>4</td>\n",
       "      <td>0.085700</td>\n",
       "      <td>0.867231</td>\n",
       "      <td>0.826398</td>\n",
       "      <td>0.816938</td>\n",
       "      <td>0.825800</td>\n",
       "      <td>0.860966</td>\n",
       "    </tr>\n",
       "  </tbody>\n",
       "</table><p>"
      ],
      "text/plain": [
       "<IPython.core.display.HTML object>"
      ]
     },
     "metadata": {},
     "output_type": "display_data"
    },
    {
     "data": {
      "text/html": [
       "\n",
       "    <div>\n",
       "      \n",
       "      <progress value='149' max='149' style='width:300px; height:20px; vertical-align: middle;'></progress>\n",
       "      [149/149 00:13]\n",
       "    </div>\n",
       "    "
      ],
      "text/plain": [
       "<IPython.core.display.HTML object>"
      ]
     },
     "metadata": {},
     "output_type": "display_data"
    },
    {
     "name": "stdout",
     "output_type": "stream",
     "text": [
      "\n",
      "Training with LR=1e-05, BS=16, WD=0.05, Epochs=5\n"
     ]
    },
    {
     "name": "stderr",
     "output_type": "stream",
     "text": [
      "/tmp/ipykernel_28166/995950262.py:45: FutureWarning: `tokenizer` is deprecated and will be removed in version 5.0.0 for `Trainer.__init__`. Use `processing_class` instead.\n",
      "  trainer = Trainer(\n"
     ]
    },
    {
     "data": {
      "text/html": [
       "\n",
       "    <div>\n",
       "      \n",
       "      <progress value='5950' max='5950' style='width:300px; height:20px; vertical-align: middle;'></progress>\n",
       "      [5950/5950 32:24, Epoch 5/5]\n",
       "    </div>\n",
       "    <table border=\"1\" class=\"dataframe\">\n",
       "  <thead>\n",
       " <tr style=\"text-align: left;\">\n",
       "      <th>Epoch</th>\n",
       "      <th>Training Loss</th>\n",
       "      <th>Validation Loss</th>\n",
       "      <th>Accuracy</th>\n",
       "      <th>F1 Macro</th>\n",
       "      <th>F1 Weighted</th>\n",
       "      <th>Qwk</th>\n",
       "    </tr>\n",
       "  </thead>\n",
       "  <tbody>\n",
       "    <tr>\n",
       "      <td>1</td>\n",
       "      <td>0.076200</td>\n",
       "      <td>0.983166</td>\n",
       "      <td>0.817991</td>\n",
       "      <td>0.809847</td>\n",
       "      <td>0.818785</td>\n",
       "      <td>0.853019</td>\n",
       "    </tr>\n",
       "    <tr>\n",
       "      <td>2</td>\n",
       "      <td>0.055600</td>\n",
       "      <td>1.032338</td>\n",
       "      <td>0.827238</td>\n",
       "      <td>0.816287</td>\n",
       "      <td>0.825564</td>\n",
       "      <td>0.862350</td>\n",
       "    </tr>\n",
       "    <tr>\n",
       "      <td>3</td>\n",
       "      <td>0.053000</td>\n",
       "      <td>1.108048</td>\n",
       "      <td>0.820513</td>\n",
       "      <td>0.810666</td>\n",
       "      <td>0.820144</td>\n",
       "      <td>0.857298</td>\n",
       "    </tr>\n",
       "    <tr>\n",
       "      <td>4</td>\n",
       "      <td>0.065100</td>\n",
       "      <td>1.130280</td>\n",
       "      <td>0.818831</td>\n",
       "      <td>0.809822</td>\n",
       "      <td>0.819086</td>\n",
       "      <td>0.854781</td>\n",
       "    </tr>\n",
       "    <tr>\n",
       "      <td>5</td>\n",
       "      <td>0.102900</td>\n",
       "      <td>1.086685</td>\n",
       "      <td>0.825557</td>\n",
       "      <td>0.815707</td>\n",
       "      <td>0.824832</td>\n",
       "      <td>0.862033</td>\n",
       "    </tr>\n",
       "  </tbody>\n",
       "</table><p>"
      ],
      "text/plain": [
       "<IPython.core.display.HTML object>"
      ]
     },
     "metadata": {},
     "output_type": "display_data"
    },
    {
     "data": {
      "text/html": [
       "\n",
       "    <div>\n",
       "      \n",
       "      <progress value='149' max='149' style='width:300px; height:20px; vertical-align: middle;'></progress>\n",
       "      [149/149 00:13]\n",
       "    </div>\n",
       "    "
      ],
      "text/plain": [
       "<IPython.core.display.HTML object>"
      ]
     },
     "metadata": {},
     "output_type": "display_data"
    },
    {
     "name": "stdout",
     "output_type": "stream",
     "text": [
      "\n",
      "Training with LR=1e-05, BS=32, WD=0.01, Epochs=4\n"
     ]
    },
    {
     "name": "stderr",
     "output_type": "stream",
     "text": [
      "/tmp/ipykernel_28166/995950262.py:45: FutureWarning: `tokenizer` is deprecated and will be removed in version 5.0.0 for `Trainer.__init__`. Use `processing_class` instead.\n",
      "  trainer = Trainer(\n"
     ]
    },
    {
     "data": {
      "text/html": [
       "\n",
       "    <div>\n",
       "      \n",
       "      <progress value='2380' max='2380' style='width:300px; height:20px; vertical-align: middle;'></progress>\n",
       "      [2380/2380 23:51, Epoch 4/4]\n",
       "    </div>\n",
       "    <table border=\"1\" class=\"dataframe\">\n",
       "  <thead>\n",
       " <tr style=\"text-align: left;\">\n",
       "      <th>Epoch</th>\n",
       "      <th>Training Loss</th>\n",
       "      <th>Validation Loss</th>\n",
       "      <th>Accuracy</th>\n",
       "      <th>F1 Macro</th>\n",
       "      <th>F1 Weighted</th>\n",
       "      <th>Qwk</th>\n",
       "    </tr>\n",
       "  </thead>\n",
       "  <tbody>\n",
       "    <tr>\n",
       "      <td>1</td>\n",
       "      <td>0.123800</td>\n",
       "      <td>0.801322</td>\n",
       "      <td>0.822194</td>\n",
       "      <td>0.811800</td>\n",
       "      <td>0.821017</td>\n",
       "      <td>0.857296</td>\n",
       "    </tr>\n",
       "    <tr>\n",
       "      <td>2</td>\n",
       "      <td>0.094600</td>\n",
       "      <td>0.884886</td>\n",
       "      <td>0.824296</td>\n",
       "      <td>0.815439</td>\n",
       "      <td>0.824510</td>\n",
       "      <td>0.859811</td>\n",
       "    </tr>\n",
       "    <tr>\n",
       "      <td>3</td>\n",
       "      <td>0.075000</td>\n",
       "      <td>0.949033</td>\n",
       "      <td>0.819252</td>\n",
       "      <td>0.807674</td>\n",
       "      <td>0.817124</td>\n",
       "      <td>0.858595</td>\n",
       "    </tr>\n",
       "    <tr>\n",
       "      <td>4</td>\n",
       "      <td>0.063400</td>\n",
       "      <td>0.973579</td>\n",
       "      <td>0.821774</td>\n",
       "      <td>0.811398</td>\n",
       "      <td>0.820948</td>\n",
       "      <td>0.858133</td>\n",
       "    </tr>\n",
       "  </tbody>\n",
       "</table><p>"
      ],
      "text/plain": [
       "<IPython.core.display.HTML object>"
      ]
     },
     "metadata": {},
     "output_type": "display_data"
    },
    {
     "data": {
      "text/html": [
       "\n",
       "    <div>\n",
       "      \n",
       "      <progress value='75' max='75' style='width:300px; height:20px; vertical-align: middle;'></progress>\n",
       "      [75/75 00:13]\n",
       "    </div>\n",
       "    "
      ],
      "text/plain": [
       "<IPython.core.display.HTML object>"
      ]
     },
     "metadata": {},
     "output_type": "display_data"
    },
    {
     "name": "stdout",
     "output_type": "stream",
     "text": [
      "\n",
      "Training with LR=1e-05, BS=32, WD=0.01, Epochs=5\n"
     ]
    },
    {
     "name": "stderr",
     "output_type": "stream",
     "text": [
      "/tmp/ipykernel_28166/995950262.py:45: FutureWarning: `tokenizer` is deprecated and will be removed in version 5.0.0 for `Trainer.__init__`. Use `processing_class` instead.\n",
      "  trainer = Trainer(\n"
     ]
    },
    {
     "data": {
      "text/html": [
       "\n",
       "    <div>\n",
       "      \n",
       "      <progress value='2975' max='2975' style='width:300px; height:20px; vertical-align: middle;'></progress>\n",
       "      [2975/2975 29:53, Epoch 5/5]\n",
       "    </div>\n",
       "    <table border=\"1\" class=\"dataframe\">\n",
       "  <thead>\n",
       " <tr style=\"text-align: left;\">\n",
       "      <th>Epoch</th>\n",
       "      <th>Training Loss</th>\n",
       "      <th>Validation Loss</th>\n",
       "      <th>Accuracy</th>\n",
       "      <th>F1 Macro</th>\n",
       "      <th>F1 Weighted</th>\n",
       "      <th>Qwk</th>\n",
       "    </tr>\n",
       "  </thead>\n",
       "  <tbody>\n",
       "    <tr>\n",
       "      <td>1</td>\n",
       "      <td>0.049500</td>\n",
       "      <td>1.096662</td>\n",
       "      <td>0.819672</td>\n",
       "      <td>0.809806</td>\n",
       "      <td>0.819006</td>\n",
       "      <td>0.853865</td>\n",
       "    </tr>\n",
       "    <tr>\n",
       "      <td>2</td>\n",
       "      <td>0.040500</td>\n",
       "      <td>1.152456</td>\n",
       "      <td>0.819672</td>\n",
       "      <td>0.810579</td>\n",
       "      <td>0.820260</td>\n",
       "      <td>0.852315</td>\n",
       "    </tr>\n",
       "    <tr>\n",
       "      <td>3</td>\n",
       "      <td>0.039700</td>\n",
       "      <td>1.154945</td>\n",
       "      <td>0.822615</td>\n",
       "      <td>0.812086</td>\n",
       "      <td>0.821498</td>\n",
       "      <td>0.859079</td>\n",
       "    </tr>\n",
       "    <tr>\n",
       "      <td>4</td>\n",
       "      <td>0.047100</td>\n",
       "      <td>1.163528</td>\n",
       "      <td>0.824296</td>\n",
       "      <td>0.814719</td>\n",
       "      <td>0.823887</td>\n",
       "      <td>0.858153</td>\n",
       "    </tr>\n",
       "    <tr>\n",
       "      <td>5</td>\n",
       "      <td>0.054300</td>\n",
       "      <td>1.154079</td>\n",
       "      <td>0.824296</td>\n",
       "      <td>0.814469</td>\n",
       "      <td>0.823860</td>\n",
       "      <td>0.859966</td>\n",
       "    </tr>\n",
       "  </tbody>\n",
       "</table><p>"
      ],
      "text/plain": [
       "<IPython.core.display.HTML object>"
      ]
     },
     "metadata": {},
     "output_type": "display_data"
    },
    {
     "data": {
      "text/html": [
       "\n",
       "    <div>\n",
       "      \n",
       "      <progress value='75' max='75' style='width:300px; height:20px; vertical-align: middle;'></progress>\n",
       "      [75/75 00:13]\n",
       "    </div>\n",
       "    "
      ],
      "text/plain": [
       "<IPython.core.display.HTML object>"
      ]
     },
     "metadata": {},
     "output_type": "display_data"
    },
    {
     "name": "stdout",
     "output_type": "stream",
     "text": [
      "\n",
      "Training with LR=1e-05, BS=32, WD=0.05, Epochs=4\n"
     ]
    },
    {
     "name": "stderr",
     "output_type": "stream",
     "text": [
      "/tmp/ipykernel_28166/995950262.py:45: FutureWarning: `tokenizer` is deprecated and will be removed in version 5.0.0 for `Trainer.__init__`. Use `processing_class` instead.\n",
      "  trainer = Trainer(\n"
     ]
    },
    {
     "data": {
      "text/html": [
       "\n",
       "    <div>\n",
       "      \n",
       "      <progress value='2380' max='2380' style='width:300px; height:20px; vertical-align: middle;'></progress>\n",
       "      [2380/2380 23:55, Epoch 4/4]\n",
       "    </div>\n",
       "    <table border=\"1\" class=\"dataframe\">\n",
       "  <thead>\n",
       " <tr style=\"text-align: left;\">\n",
       "      <th>Epoch</th>\n",
       "      <th>Training Loss</th>\n",
       "      <th>Validation Loss</th>\n",
       "      <th>Accuracy</th>\n",
       "      <th>F1 Macro</th>\n",
       "      <th>F1 Weighted</th>\n",
       "      <th>Qwk</th>\n",
       "    </tr>\n",
       "  </thead>\n",
       "  <tbody>\n",
       "    <tr>\n",
       "      <td>1</td>\n",
       "      <td>0.026900</td>\n",
       "      <td>1.351807</td>\n",
       "      <td>0.817991</td>\n",
       "      <td>0.807039</td>\n",
       "      <td>0.816497</td>\n",
       "      <td>0.852558</td>\n",
       "    </tr>\n",
       "    <tr>\n",
       "      <td>2</td>\n",
       "      <td>0.025500</td>\n",
       "      <td>1.318906</td>\n",
       "      <td>0.823876</td>\n",
       "      <td>0.813293</td>\n",
       "      <td>0.822641</td>\n",
       "      <td>0.858950</td>\n",
       "    </tr>\n",
       "    <tr>\n",
       "      <td>3</td>\n",
       "      <td>0.017100</td>\n",
       "      <td>1.368062</td>\n",
       "      <td>0.821774</td>\n",
       "      <td>0.811832</td>\n",
       "      <td>0.821462</td>\n",
       "      <td>0.854480</td>\n",
       "    </tr>\n",
       "    <tr>\n",
       "      <td>4</td>\n",
       "      <td>0.020700</td>\n",
       "      <td>1.368973</td>\n",
       "      <td>0.820933</td>\n",
       "      <td>0.810956</td>\n",
       "      <td>0.820481</td>\n",
       "      <td>0.856591</td>\n",
       "    </tr>\n",
       "  </tbody>\n",
       "</table><p>"
      ],
      "text/plain": [
       "<IPython.core.display.HTML object>"
      ]
     },
     "metadata": {},
     "output_type": "display_data"
    },
    {
     "data": {
      "text/html": [
       "\n",
       "    <div>\n",
       "      \n",
       "      <progress value='75' max='75' style='width:300px; height:20px; vertical-align: middle;'></progress>\n",
       "      [75/75 00:13]\n",
       "    </div>\n",
       "    "
      ],
      "text/plain": [
       "<IPython.core.display.HTML object>"
      ]
     },
     "metadata": {},
     "output_type": "display_data"
    },
    {
     "name": "stdout",
     "output_type": "stream",
     "text": [
      "\n",
      "Training with LR=1e-05, BS=32, WD=0.05, Epochs=5\n"
     ]
    },
    {
     "name": "stderr",
     "output_type": "stream",
     "text": [
      "/tmp/ipykernel_28166/995950262.py:45: FutureWarning: `tokenizer` is deprecated and will be removed in version 5.0.0 for `Trainer.__init__`. Use `processing_class` instead.\n",
      "  trainer = Trainer(\n"
     ]
    },
    {
     "data": {
      "text/html": [
       "\n",
       "    <div>\n",
       "      \n",
       "      <progress value='2975' max='2975' style='width:300px; height:20px; vertical-align: middle;'></progress>\n",
       "      [2975/2975 29:53, Epoch 5/5]\n",
       "    </div>\n",
       "    <table border=\"1\" class=\"dataframe\">\n",
       "  <thead>\n",
       " <tr style=\"text-align: left;\">\n",
       "      <th>Epoch</th>\n",
       "      <th>Training Loss</th>\n",
       "      <th>Validation Loss</th>\n",
       "      <th>Accuracy</th>\n",
       "      <th>F1 Macro</th>\n",
       "      <th>F1 Weighted</th>\n",
       "      <th>Qwk</th>\n",
       "    </tr>\n",
       "  </thead>\n",
       "  <tbody>\n",
       "    <tr>\n",
       "      <td>1</td>\n",
       "      <td>0.023000</td>\n",
       "      <td>1.436848</td>\n",
       "      <td>0.831021</td>\n",
       "      <td>0.822326</td>\n",
       "      <td>0.831210</td>\n",
       "      <td>0.861335</td>\n",
       "    </tr>\n",
       "    <tr>\n",
       "      <td>2</td>\n",
       "      <td>0.017000</td>\n",
       "      <td>1.530748</td>\n",
       "      <td>0.822194</td>\n",
       "      <td>0.811956</td>\n",
       "      <td>0.821568</td>\n",
       "      <td>0.854405</td>\n",
       "    </tr>\n",
       "    <tr>\n",
       "      <td>3</td>\n",
       "      <td>0.013000</td>\n",
       "      <td>1.572148</td>\n",
       "      <td>0.820092</td>\n",
       "      <td>0.810164</td>\n",
       "      <td>0.819992</td>\n",
       "      <td>0.850913</td>\n",
       "    </tr>\n",
       "    <tr>\n",
       "      <td>4</td>\n",
       "      <td>0.023200</td>\n",
       "      <td>1.458958</td>\n",
       "      <td>0.823455</td>\n",
       "      <td>0.814381</td>\n",
       "      <td>0.823686</td>\n",
       "      <td>0.857116</td>\n",
       "    </tr>\n",
       "    <tr>\n",
       "      <td>5</td>\n",
       "      <td>0.044700</td>\n",
       "      <td>1.439367</td>\n",
       "      <td>0.823455</td>\n",
       "      <td>0.813484</td>\n",
       "      <td>0.822772</td>\n",
       "      <td>0.858102</td>\n",
       "    </tr>\n",
       "  </tbody>\n",
       "</table><p>"
      ],
      "text/plain": [
       "<IPython.core.display.HTML object>"
      ]
     },
     "metadata": {},
     "output_type": "display_data"
    },
    {
     "data": {
      "text/html": [
       "\n",
       "    <div>\n",
       "      \n",
       "      <progress value='75' max='75' style='width:300px; height:20px; vertical-align: middle;'></progress>\n",
       "      [75/75 00:13]\n",
       "    </div>\n",
       "    "
      ],
      "text/plain": [
       "<IPython.core.display.HTML object>"
      ]
     },
     "metadata": {},
     "output_type": "display_data"
    },
    {
     "name": "stdout",
     "output_type": "stream",
     "text": [
      "\n",
      "Training with LR=2e-05, BS=16, WD=0.01, Epochs=4\n"
     ]
    },
    {
     "name": "stderr",
     "output_type": "stream",
     "text": [
      "/tmp/ipykernel_28166/995950262.py:45: FutureWarning: `tokenizer` is deprecated and will be removed in version 5.0.0 for `Trainer.__init__`. Use `processing_class` instead.\n",
      "  trainer = Trainer(\n"
     ]
    },
    {
     "data": {
      "text/html": [
       "\n",
       "    <div>\n",
       "      \n",
       "      <progress value='4760' max='4760' style='width:300px; height:20px; vertical-align: middle;'></progress>\n",
       "      [4760/4760 25:56, Epoch 4/4]\n",
       "    </div>\n",
       "    <table border=\"1\" class=\"dataframe\">\n",
       "  <thead>\n",
       " <tr style=\"text-align: left;\">\n",
       "      <th>Epoch</th>\n",
       "      <th>Training Loss</th>\n",
       "      <th>Validation Loss</th>\n",
       "      <th>Accuracy</th>\n",
       "      <th>F1 Macro</th>\n",
       "      <th>F1 Weighted</th>\n",
       "      <th>Qwk</th>\n",
       "    </tr>\n",
       "  </thead>\n",
       "  <tbody>\n",
       "    <tr>\n",
       "      <td>1</td>\n",
       "      <td>0.064100</td>\n",
       "      <td>1.246246</td>\n",
       "      <td>0.817150</td>\n",
       "      <td>0.805366</td>\n",
       "      <td>0.814529</td>\n",
       "      <td>0.857742</td>\n",
       "    </tr>\n",
       "    <tr>\n",
       "      <td>2</td>\n",
       "      <td>0.048800</td>\n",
       "      <td>1.180884</td>\n",
       "      <td>0.825137</td>\n",
       "      <td>0.814661</td>\n",
       "      <td>0.823716</td>\n",
       "      <td>0.858050</td>\n",
       "    </tr>\n",
       "    <tr>\n",
       "      <td>3</td>\n",
       "      <td>0.041600</td>\n",
       "      <td>1.379844</td>\n",
       "      <td>0.825977</td>\n",
       "      <td>0.814036</td>\n",
       "      <td>0.823240</td>\n",
       "      <td>0.863769</td>\n",
       "    </tr>\n",
       "    <tr>\n",
       "      <td>4</td>\n",
       "      <td>0.035200</td>\n",
       "      <td>1.339835</td>\n",
       "      <td>0.832282</td>\n",
       "      <td>0.822856</td>\n",
       "      <td>0.831771</td>\n",
       "      <td>0.864445</td>\n",
       "    </tr>\n",
       "  </tbody>\n",
       "</table><p>"
      ],
      "text/plain": [
       "<IPython.core.display.HTML object>"
      ]
     },
     "metadata": {},
     "output_type": "display_data"
    },
    {
     "data": {
      "text/html": [
       "\n",
       "    <div>\n",
       "      \n",
       "      <progress value='149' max='149' style='width:300px; height:20px; vertical-align: middle;'></progress>\n",
       "      [149/149 00:13]\n",
       "    </div>\n",
       "    "
      ],
      "text/plain": [
       "<IPython.core.display.HTML object>"
      ]
     },
     "metadata": {},
     "output_type": "display_data"
    },
    {
     "name": "stdout",
     "output_type": "stream",
     "text": [
      "\n",
      "Training with LR=2e-05, BS=16, WD=0.01, Epochs=5\n"
     ]
    },
    {
     "name": "stderr",
     "output_type": "stream",
     "text": [
      "/tmp/ipykernel_28166/995950262.py:45: FutureWarning: `tokenizer` is deprecated and will be removed in version 5.0.0 for `Trainer.__init__`. Use `processing_class` instead.\n",
      "  trainer = Trainer(\n"
     ]
    },
    {
     "data": {
      "text/html": [
       "\n",
       "    <div>\n",
       "      \n",
       "      <progress value='5950' max='5950' style='width:300px; height:20px; vertical-align: middle;'></progress>\n",
       "      [5950/5950 32:22, Epoch 5/5]\n",
       "    </div>\n",
       "    <table border=\"1\" class=\"dataframe\">\n",
       "  <thead>\n",
       " <tr style=\"text-align: left;\">\n",
       "      <th>Epoch</th>\n",
       "      <th>Training Loss</th>\n",
       "      <th>Validation Loss</th>\n",
       "      <th>Accuracy</th>\n",
       "      <th>F1 Macro</th>\n",
       "      <th>F1 Weighted</th>\n",
       "      <th>Qwk</th>\n",
       "    </tr>\n",
       "  </thead>\n",
       "  <tbody>\n",
       "    <tr>\n",
       "      <td>1</td>\n",
       "      <td>0.046500</td>\n",
       "      <td>1.326056</td>\n",
       "      <td>0.829760</td>\n",
       "      <td>0.820338</td>\n",
       "      <td>0.828975</td>\n",
       "      <td>0.863318</td>\n",
       "    </tr>\n",
       "    <tr>\n",
       "      <td>2</td>\n",
       "      <td>0.040800</td>\n",
       "      <td>1.343038</td>\n",
       "      <td>0.817991</td>\n",
       "      <td>0.807917</td>\n",
       "      <td>0.817817</td>\n",
       "      <td>0.850366</td>\n",
       "    </tr>\n",
       "    <tr>\n",
       "      <td>3</td>\n",
       "      <td>0.036900</td>\n",
       "      <td>1.437446</td>\n",
       "      <td>0.822194</td>\n",
       "      <td>0.811249</td>\n",
       "      <td>0.820607</td>\n",
       "      <td>0.858731</td>\n",
       "    </tr>\n",
       "    <tr>\n",
       "      <td>4</td>\n",
       "      <td>0.039400</td>\n",
       "      <td>1.355197</td>\n",
       "      <td>0.826818</td>\n",
       "      <td>0.817520</td>\n",
       "      <td>0.826745</td>\n",
       "      <td>0.861175</td>\n",
       "    </tr>\n",
       "    <tr>\n",
       "      <td>5</td>\n",
       "      <td>0.052700</td>\n",
       "      <td>1.313838</td>\n",
       "      <td>0.827659</td>\n",
       "      <td>0.818573</td>\n",
       "      <td>0.827733</td>\n",
       "      <td>0.862266</td>\n",
       "    </tr>\n",
       "  </tbody>\n",
       "</table><p>"
      ],
      "text/plain": [
       "<IPython.core.display.HTML object>"
      ]
     },
     "metadata": {},
     "output_type": "display_data"
    },
    {
     "data": {
      "text/html": [
       "\n",
       "    <div>\n",
       "      \n",
       "      <progress value='149' max='149' style='width:300px; height:20px; vertical-align: middle;'></progress>\n",
       "      [149/149 00:13]\n",
       "    </div>\n",
       "    "
      ],
      "text/plain": [
       "<IPython.core.display.HTML object>"
      ]
     },
     "metadata": {},
     "output_type": "display_data"
    },
    {
     "name": "stdout",
     "output_type": "stream",
     "text": [
      "\n",
      "Training with LR=2e-05, BS=16, WD=0.05, Epochs=4\n"
     ]
    },
    {
     "name": "stderr",
     "output_type": "stream",
     "text": [
      "/tmp/ipykernel_28166/995950262.py:45: FutureWarning: `tokenizer` is deprecated and will be removed in version 5.0.0 for `Trainer.__init__`. Use `processing_class` instead.\n",
      "  trainer = Trainer(\n"
     ]
    },
    {
     "data": {
      "text/html": [
       "\n",
       "    <div>\n",
       "      \n",
       "      <progress value='4760' max='4760' style='width:300px; height:20px; vertical-align: middle;'></progress>\n",
       "      [4760/4760 25:57, Epoch 4/4]\n",
       "    </div>\n",
       "    <table border=\"1\" class=\"dataframe\">\n",
       "  <thead>\n",
       " <tr style=\"text-align: left;\">\n",
       "      <th>Epoch</th>\n",
       "      <th>Training Loss</th>\n",
       "      <th>Validation Loss</th>\n",
       "      <th>Accuracy</th>\n",
       "      <th>F1 Macro</th>\n",
       "      <th>F1 Weighted</th>\n",
       "      <th>Qwk</th>\n",
       "    </tr>\n",
       "  </thead>\n",
       "  <tbody>\n",
       "    <tr>\n",
       "      <td>1</td>\n",
       "      <td>0.032700</td>\n",
       "      <td>1.444285</td>\n",
       "      <td>0.825557</td>\n",
       "      <td>0.814577</td>\n",
       "      <td>0.823497</td>\n",
       "      <td>0.863754</td>\n",
       "    </tr>\n",
       "    <tr>\n",
       "      <td>2</td>\n",
       "      <td>0.026300</td>\n",
       "      <td>1.422557</td>\n",
       "      <td>0.828079</td>\n",
       "      <td>0.816812</td>\n",
       "      <td>0.825841</td>\n",
       "      <td>0.865472</td>\n",
       "    </tr>\n",
       "    <tr>\n",
       "      <td>3</td>\n",
       "      <td>0.025500</td>\n",
       "      <td>1.353429</td>\n",
       "      <td>0.830601</td>\n",
       "      <td>0.821182</td>\n",
       "      <td>0.829832</td>\n",
       "      <td>0.864141</td>\n",
       "    </tr>\n",
       "    <tr>\n",
       "      <td>4</td>\n",
       "      <td>0.015900</td>\n",
       "      <td>1.444169</td>\n",
       "      <td>0.831442</td>\n",
       "      <td>0.822324</td>\n",
       "      <td>0.831007</td>\n",
       "      <td>0.863049</td>\n",
       "    </tr>\n",
       "  </tbody>\n",
       "</table><p>"
      ],
      "text/plain": [
       "<IPython.core.display.HTML object>"
      ]
     },
     "metadata": {},
     "output_type": "display_data"
    },
    {
     "data": {
      "text/html": [
       "\n",
       "    <div>\n",
       "      \n",
       "      <progress value='149' max='149' style='width:300px; height:20px; vertical-align: middle;'></progress>\n",
       "      [149/149 00:13]\n",
       "    </div>\n",
       "    "
      ],
      "text/plain": [
       "<IPython.core.display.HTML object>"
      ]
     },
     "metadata": {},
     "output_type": "display_data"
    },
    {
     "name": "stdout",
     "output_type": "stream",
     "text": [
      "\n",
      "Training with LR=2e-05, BS=16, WD=0.05, Epochs=5\n"
     ]
    },
    {
     "name": "stderr",
     "output_type": "stream",
     "text": [
      "/tmp/ipykernel_28166/995950262.py:45: FutureWarning: `tokenizer` is deprecated and will be removed in version 5.0.0 for `Trainer.__init__`. Use `processing_class` instead.\n",
      "  trainer = Trainer(\n"
     ]
    },
    {
     "data": {
      "text/html": [
       "\n",
       "    <div>\n",
       "      \n",
       "      <progress value='5950' max='5950' style='width:300px; height:20px; vertical-align: middle;'></progress>\n",
       "      [5950/5950 32:32, Epoch 5/5]\n",
       "    </div>\n",
       "    <table border=\"1\" class=\"dataframe\">\n",
       "  <thead>\n",
       " <tr style=\"text-align: left;\">\n",
       "      <th>Epoch</th>\n",
       "      <th>Training Loss</th>\n",
       "      <th>Validation Loss</th>\n",
       "      <th>Accuracy</th>\n",
       "      <th>F1 Macro</th>\n",
       "      <th>F1 Weighted</th>\n",
       "      <th>Qwk</th>\n",
       "    </tr>\n",
       "  </thead>\n",
       "  <tbody>\n",
       "    <tr>\n",
       "      <td>1</td>\n",
       "      <td>0.027900</td>\n",
       "      <td>1.492473</td>\n",
       "      <td>0.821774</td>\n",
       "      <td>0.811835</td>\n",
       "      <td>0.820614</td>\n",
       "      <td>0.857617</td>\n",
       "    </tr>\n",
       "    <tr>\n",
       "      <td>2</td>\n",
       "      <td>0.031700</td>\n",
       "      <td>1.270374</td>\n",
       "      <td>0.828920</td>\n",
       "      <td>0.818333</td>\n",
       "      <td>0.826996</td>\n",
       "      <td>0.867256</td>\n",
       "    </tr>\n",
       "    <tr>\n",
       "      <td>3</td>\n",
       "      <td>0.022500</td>\n",
       "      <td>1.450754</td>\n",
       "      <td>0.827238</td>\n",
       "      <td>0.817641</td>\n",
       "      <td>0.826636</td>\n",
       "      <td>0.864470</td>\n",
       "    </tr>\n",
       "    <tr>\n",
       "      <td>4</td>\n",
       "      <td>0.023600</td>\n",
       "      <td>1.428231</td>\n",
       "      <td>0.829760</td>\n",
       "      <td>0.820288</td>\n",
       "      <td>0.829207</td>\n",
       "      <td>0.861800</td>\n",
       "    </tr>\n",
       "    <tr>\n",
       "      <td>5</td>\n",
       "      <td>0.038100</td>\n",
       "      <td>1.407468</td>\n",
       "      <td>0.826818</td>\n",
       "      <td>0.817746</td>\n",
       "      <td>0.826688</td>\n",
       "      <td>0.862141</td>\n",
       "    </tr>\n",
       "  </tbody>\n",
       "</table><p>"
      ],
      "text/plain": [
       "<IPython.core.display.HTML object>"
      ]
     },
     "metadata": {},
     "output_type": "display_data"
    },
    {
     "data": {
      "text/html": [
       "\n",
       "    <div>\n",
       "      \n",
       "      <progress value='149' max='149' style='width:300px; height:20px; vertical-align: middle;'></progress>\n",
       "      [149/149 00:13]\n",
       "    </div>\n",
       "    "
      ],
      "text/plain": [
       "<IPython.core.display.HTML object>"
      ]
     },
     "metadata": {},
     "output_type": "display_data"
    },
    {
     "name": "stdout",
     "output_type": "stream",
     "text": [
      "\n",
      "Training with LR=2e-05, BS=32, WD=0.01, Epochs=4\n"
     ]
    },
    {
     "name": "stderr",
     "output_type": "stream",
     "text": [
      "/tmp/ipykernel_28166/995950262.py:45: FutureWarning: `tokenizer` is deprecated and will be removed in version 5.0.0 for `Trainer.__init__`. Use `processing_class` instead.\n",
      "  trainer = Trainer(\n"
     ]
    },
    {
     "data": {
      "text/html": [
       "\n",
       "    <div>\n",
       "      \n",
       "      <progress value='2380' max='2380' style='width:300px; height:20px; vertical-align: middle;'></progress>\n",
       "      [2380/2380 23:56, Epoch 4/4]\n",
       "    </div>\n",
       "    <table border=\"1\" class=\"dataframe\">\n",
       "  <thead>\n",
       " <tr style=\"text-align: left;\">\n",
       "      <th>Epoch</th>\n",
       "      <th>Training Loss</th>\n",
       "      <th>Validation Loss</th>\n",
       "      <th>Accuracy</th>\n",
       "      <th>F1 Macro</th>\n",
       "      <th>F1 Weighted</th>\n",
       "      <th>Qwk</th>\n",
       "    </tr>\n",
       "  </thead>\n",
       "  <tbody>\n",
       "    <tr>\n",
       "      <td>1</td>\n",
       "      <td>0.043200</td>\n",
       "      <td>1.203651</td>\n",
       "      <td>0.821774</td>\n",
       "      <td>0.811968</td>\n",
       "      <td>0.821744</td>\n",
       "      <td>0.856084</td>\n",
       "    </tr>\n",
       "    <tr>\n",
       "      <td>2</td>\n",
       "      <td>0.036300</td>\n",
       "      <td>1.274976</td>\n",
       "      <td>0.821774</td>\n",
       "      <td>0.810378</td>\n",
       "      <td>0.820003</td>\n",
       "      <td>0.860530</td>\n",
       "    </tr>\n",
       "    <tr>\n",
       "      <td>3</td>\n",
       "      <td>0.028400</td>\n",
       "      <td>1.264570</td>\n",
       "      <td>0.830181</td>\n",
       "      <td>0.820435</td>\n",
       "      <td>0.829725</td>\n",
       "      <td>0.863625</td>\n",
       "    </tr>\n",
       "    <tr>\n",
       "      <td>4</td>\n",
       "      <td>0.025400</td>\n",
       "      <td>1.305380</td>\n",
       "      <td>0.826398</td>\n",
       "      <td>0.816201</td>\n",
       "      <td>0.825604</td>\n",
       "      <td>0.863336</td>\n",
       "    </tr>\n",
       "  </tbody>\n",
       "</table><p>"
      ],
      "text/plain": [
       "<IPython.core.display.HTML object>"
      ]
     },
     "metadata": {},
     "output_type": "display_data"
    },
    {
     "data": {
      "text/html": [
       "\n",
       "    <div>\n",
       "      \n",
       "      <progress value='75' max='75' style='width:300px; height:20px; vertical-align: middle;'></progress>\n",
       "      [75/75 00:13]\n",
       "    </div>\n",
       "    "
      ],
      "text/plain": [
       "<IPython.core.display.HTML object>"
      ]
     },
     "metadata": {},
     "output_type": "display_data"
    },
    {
     "name": "stdout",
     "output_type": "stream",
     "text": [
      "\n",
      "Training with LR=2e-05, BS=32, WD=0.01, Epochs=5\n"
     ]
    },
    {
     "name": "stderr",
     "output_type": "stream",
     "text": [
      "/tmp/ipykernel_28166/995950262.py:45: FutureWarning: `tokenizer` is deprecated and will be removed in version 5.0.0 for `Trainer.__init__`. Use `processing_class` instead.\n",
      "  trainer = Trainer(\n"
     ]
    },
    {
     "data": {
      "text/html": [
       "\n",
       "    <div>\n",
       "      \n",
       "      <progress value='2975' max='2975' style='width:300px; height:20px; vertical-align: middle;'></progress>\n",
       "      [2975/2975 29:52, Epoch 5/5]\n",
       "    </div>\n",
       "    <table border=\"1\" class=\"dataframe\">\n",
       "  <thead>\n",
       " <tr style=\"text-align: left;\">\n",
       "      <th>Epoch</th>\n",
       "      <th>Training Loss</th>\n",
       "      <th>Validation Loss</th>\n",
       "      <th>Accuracy</th>\n",
       "      <th>F1 Macro</th>\n",
       "      <th>F1 Weighted</th>\n",
       "      <th>Qwk</th>\n",
       "    </tr>\n",
       "  </thead>\n",
       "  <tbody>\n",
       "    <tr>\n",
       "      <td>1</td>\n",
       "      <td>0.021600</td>\n",
       "      <td>1.345811</td>\n",
       "      <td>0.823876</td>\n",
       "      <td>0.815198</td>\n",
       "      <td>0.824225</td>\n",
       "      <td>0.859589</td>\n",
       "    </tr>\n",
       "    <tr>\n",
       "      <td>2</td>\n",
       "      <td>0.024900</td>\n",
       "      <td>1.393175</td>\n",
       "      <td>0.825137</td>\n",
       "      <td>0.813839</td>\n",
       "      <td>0.823350</td>\n",
       "      <td>0.862157</td>\n",
       "    </tr>\n",
       "    <tr>\n",
       "      <td>3</td>\n",
       "      <td>0.017800</td>\n",
       "      <td>1.431469</td>\n",
       "      <td>0.826818</td>\n",
       "      <td>0.816972</td>\n",
       "      <td>0.826454</td>\n",
       "      <td>0.859590</td>\n",
       "    </tr>\n",
       "    <tr>\n",
       "      <td>4</td>\n",
       "      <td>0.022200</td>\n",
       "      <td>1.313749</td>\n",
       "      <td>0.827659</td>\n",
       "      <td>0.818420</td>\n",
       "      <td>0.827929</td>\n",
       "      <td>0.862899</td>\n",
       "    </tr>\n",
       "    <tr>\n",
       "      <td>5</td>\n",
       "      <td>0.028800</td>\n",
       "      <td>1.291264</td>\n",
       "      <td>0.831021</td>\n",
       "      <td>0.821422</td>\n",
       "      <td>0.830850</td>\n",
       "      <td>0.866632</td>\n",
       "    </tr>\n",
       "  </tbody>\n",
       "</table><p>"
      ],
      "text/plain": [
       "<IPython.core.display.HTML object>"
      ]
     },
     "metadata": {},
     "output_type": "display_data"
    },
    {
     "data": {
      "text/html": [
       "\n",
       "    <div>\n",
       "      \n",
       "      <progress value='75' max='75' style='width:300px; height:20px; vertical-align: middle;'></progress>\n",
       "      [75/75 00:13]\n",
       "    </div>\n",
       "    "
      ],
      "text/plain": [
       "<IPython.core.display.HTML object>"
      ]
     },
     "metadata": {},
     "output_type": "display_data"
    },
    {
     "name": "stdout",
     "output_type": "stream",
     "text": [
      "\n",
      "Training with LR=2e-05, BS=32, WD=0.05, Epochs=4\n"
     ]
    },
    {
     "name": "stderr",
     "output_type": "stream",
     "text": [
      "/tmp/ipykernel_28166/995950262.py:45: FutureWarning: `tokenizer` is deprecated and will be removed in version 5.0.0 for `Trainer.__init__`. Use `processing_class` instead.\n",
      "  trainer = Trainer(\n"
     ]
    },
    {
     "data": {
      "text/html": [
       "\n",
       "    <div>\n",
       "      \n",
       "      <progress value='2380' max='2380' style='width:300px; height:20px; vertical-align: middle;'></progress>\n",
       "      [2380/2380 23:50, Epoch 4/4]\n",
       "    </div>\n",
       "    <table border=\"1\" class=\"dataframe\">\n",
       "  <thead>\n",
       " <tr style=\"text-align: left;\">\n",
       "      <th>Epoch</th>\n",
       "      <th>Training Loss</th>\n",
       "      <th>Validation Loss</th>\n",
       "      <th>Accuracy</th>\n",
       "      <th>F1 Macro</th>\n",
       "      <th>F1 Weighted</th>\n",
       "      <th>Qwk</th>\n",
       "    </tr>\n",
       "  </thead>\n",
       "  <tbody>\n",
       "    <tr>\n",
       "      <td>1</td>\n",
       "      <td>0.013900</td>\n",
       "      <td>1.401102</td>\n",
       "      <td>0.823876</td>\n",
       "      <td>0.815412</td>\n",
       "      <td>0.824674</td>\n",
       "      <td>0.854959</td>\n",
       "    </tr>\n",
       "    <tr>\n",
       "      <td>2</td>\n",
       "      <td>0.013700</td>\n",
       "      <td>1.571636</td>\n",
       "      <td>0.814208</td>\n",
       "      <td>0.804151</td>\n",
       "      <td>0.814116</td>\n",
       "      <td>0.846891</td>\n",
       "    </tr>\n",
       "    <tr>\n",
       "      <td>3</td>\n",
       "      <td>0.011500</td>\n",
       "      <td>1.530783</td>\n",
       "      <td>0.827238</td>\n",
       "      <td>0.817138</td>\n",
       "      <td>0.826136</td>\n",
       "      <td>0.859425</td>\n",
       "    </tr>\n",
       "    <tr>\n",
       "      <td>4</td>\n",
       "      <td>0.009900</td>\n",
       "      <td>1.557660</td>\n",
       "      <td>0.825977</td>\n",
       "      <td>0.815614</td>\n",
       "      <td>0.824703</td>\n",
       "      <td>0.861351</td>\n",
       "    </tr>\n",
       "  </tbody>\n",
       "</table><p>"
      ],
      "text/plain": [
       "<IPython.core.display.HTML object>"
      ]
     },
     "metadata": {},
     "output_type": "display_data"
    },
    {
     "data": {
      "text/html": [
       "\n",
       "    <div>\n",
       "      \n",
       "      <progress value='75' max='75' style='width:300px; height:20px; vertical-align: middle;'></progress>\n",
       "      [75/75 00:13]\n",
       "    </div>\n",
       "    "
      ],
      "text/plain": [
       "<IPython.core.display.HTML object>"
      ]
     },
     "metadata": {},
     "output_type": "display_data"
    },
    {
     "name": "stdout",
     "output_type": "stream",
     "text": [
      "\n",
      "Training with LR=2e-05, BS=32, WD=0.05, Epochs=5\n"
     ]
    },
    {
     "name": "stderr",
     "output_type": "stream",
     "text": [
      "/tmp/ipykernel_28166/995950262.py:45: FutureWarning: `tokenizer` is deprecated and will be removed in version 5.0.0 for `Trainer.__init__`. Use `processing_class` instead.\n",
      "  trainer = Trainer(\n"
     ]
    },
    {
     "data": {
      "text/html": [
       "\n",
       "    <div>\n",
       "      \n",
       "      <progress value='2975' max='2975' style='width:300px; height:20px; vertical-align: middle;'></progress>\n",
       "      [2975/2975 29:48, Epoch 5/5]\n",
       "    </div>\n",
       "    <table border=\"1\" class=\"dataframe\">\n",
       "  <thead>\n",
       " <tr style=\"text-align: left;\">\n",
       "      <th>Epoch</th>\n",
       "      <th>Training Loss</th>\n",
       "      <th>Validation Loss</th>\n",
       "      <th>Accuracy</th>\n",
       "      <th>F1 Macro</th>\n",
       "      <th>F1 Weighted</th>\n",
       "      <th>Qwk</th>\n",
       "    </tr>\n",
       "  </thead>\n",
       "  <tbody>\n",
       "    <tr>\n",
       "      <td>1</td>\n",
       "      <td>0.023500</td>\n",
       "      <td>1.412445</td>\n",
       "      <td>0.829340</td>\n",
       "      <td>0.819228</td>\n",
       "      <td>0.828104</td>\n",
       "      <td>0.861486</td>\n",
       "    </tr>\n",
       "    <tr>\n",
       "      <td>2</td>\n",
       "      <td>0.014600</td>\n",
       "      <td>1.443393</td>\n",
       "      <td>0.828920</td>\n",
       "      <td>0.819839</td>\n",
       "      <td>0.829104</td>\n",
       "      <td>0.860649</td>\n",
       "    </tr>\n",
       "    <tr>\n",
       "      <td>3</td>\n",
       "      <td>0.010000</td>\n",
       "      <td>1.463243</td>\n",
       "      <td>0.833544</td>\n",
       "      <td>0.824053</td>\n",
       "      <td>0.832486</td>\n",
       "      <td>0.862972</td>\n",
       "    </tr>\n",
       "    <tr>\n",
       "      <td>4</td>\n",
       "      <td>0.011600</td>\n",
       "      <td>1.465522</td>\n",
       "      <td>0.831442</td>\n",
       "      <td>0.822794</td>\n",
       "      <td>0.831634</td>\n",
       "      <td>0.860861</td>\n",
       "    </tr>\n",
       "    <tr>\n",
       "      <td>5</td>\n",
       "      <td>0.028100</td>\n",
       "      <td>1.417740</td>\n",
       "      <td>0.831442</td>\n",
       "      <td>0.822235</td>\n",
       "      <td>0.830965</td>\n",
       "      <td>0.861621</td>\n",
       "    </tr>\n",
       "  </tbody>\n",
       "</table><p>"
      ],
      "text/plain": [
       "<IPython.core.display.HTML object>"
      ]
     },
     "metadata": {},
     "output_type": "display_data"
    },
    {
     "data": {
      "text/html": [
       "\n",
       "    <div>\n",
       "      \n",
       "      <progress value='75' max='75' style='width:300px; height:20px; vertical-align: middle;'></progress>\n",
       "      [75/75 00:13]\n",
       "    </div>\n",
       "    "
      ],
      "text/plain": [
       "<IPython.core.display.HTML object>"
      ]
     },
     "metadata": {},
     "output_type": "display_data"
    },
    {
     "name": "stdout",
     "output_type": "stream",
     "text": [
      "\n",
      "Training with LR=3e-05, BS=16, WD=0.01, Epochs=4\n"
     ]
    },
    {
     "name": "stderr",
     "output_type": "stream",
     "text": [
      "/tmp/ipykernel_28166/995950262.py:45: FutureWarning: `tokenizer` is deprecated and will be removed in version 5.0.0 for `Trainer.__init__`. Use `processing_class` instead.\n",
      "  trainer = Trainer(\n"
     ]
    },
    {
     "data": {
      "text/html": [
       "\n",
       "    <div>\n",
       "      \n",
       "      <progress value='4760' max='4760' style='width:300px; height:20px; vertical-align: middle;'></progress>\n",
       "      [4760/4760 25:51, Epoch 4/4]\n",
       "    </div>\n",
       "    <table border=\"1\" class=\"dataframe\">\n",
       "  <thead>\n",
       " <tr style=\"text-align: left;\">\n",
       "      <th>Epoch</th>\n",
       "      <th>Training Loss</th>\n",
       "      <th>Validation Loss</th>\n",
       "      <th>Accuracy</th>\n",
       "      <th>F1 Macro</th>\n",
       "      <th>F1 Weighted</th>\n",
       "      <th>Qwk</th>\n",
       "    </tr>\n",
       "  </thead>\n",
       "  <tbody>\n",
       "    <tr>\n",
       "      <td>1</td>\n",
       "      <td>0.034300</td>\n",
       "      <td>1.478238</td>\n",
       "      <td>0.813367</td>\n",
       "      <td>0.802319</td>\n",
       "      <td>0.811712</td>\n",
       "      <td>0.852075</td>\n",
       "    </tr>\n",
       "    <tr>\n",
       "      <td>2</td>\n",
       "      <td>0.038900</td>\n",
       "      <td>1.320367</td>\n",
       "      <td>0.828079</td>\n",
       "      <td>0.817597</td>\n",
       "      <td>0.826905</td>\n",
       "      <td>0.864830</td>\n",
       "    </tr>\n",
       "    <tr>\n",
       "      <td>3</td>\n",
       "      <td>0.025900</td>\n",
       "      <td>1.347286</td>\n",
       "      <td>0.825557</td>\n",
       "      <td>0.815614</td>\n",
       "      <td>0.824686</td>\n",
       "      <td>0.858508</td>\n",
       "    </tr>\n",
       "    <tr>\n",
       "      <td>4</td>\n",
       "      <td>0.020600</td>\n",
       "      <td>1.399364</td>\n",
       "      <td>0.831442</td>\n",
       "      <td>0.821867</td>\n",
       "      <td>0.830562</td>\n",
       "      <td>0.863196</td>\n",
       "    </tr>\n",
       "  </tbody>\n",
       "</table><p>"
      ],
      "text/plain": [
       "<IPython.core.display.HTML object>"
      ]
     },
     "metadata": {},
     "output_type": "display_data"
    },
    {
     "data": {
      "text/html": [
       "\n",
       "    <div>\n",
       "      \n",
       "      <progress value='149' max='149' style='width:300px; height:20px; vertical-align: middle;'></progress>\n",
       "      [149/149 00:13]\n",
       "    </div>\n",
       "    "
      ],
      "text/plain": [
       "<IPython.core.display.HTML object>"
      ]
     },
     "metadata": {},
     "output_type": "display_data"
    },
    {
     "name": "stdout",
     "output_type": "stream",
     "text": [
      "\n",
      "Training with LR=3e-05, BS=16, WD=0.01, Epochs=5\n"
     ]
    },
    {
     "name": "stderr",
     "output_type": "stream",
     "text": [
      "/tmp/ipykernel_28166/995950262.py:45: FutureWarning: `tokenizer` is deprecated and will be removed in version 5.0.0 for `Trainer.__init__`. Use `processing_class` instead.\n",
      "  trainer = Trainer(\n"
     ]
    },
    {
     "data": {
      "text/html": [
       "\n",
       "    <div>\n",
       "      \n",
       "      <progress value='5950' max='5950' style='width:300px; height:20px; vertical-align: middle;'></progress>\n",
       "      [5950/5950 32:25, Epoch 5/5]\n",
       "    </div>\n",
       "    <table border=\"1\" class=\"dataframe\">\n",
       "  <thead>\n",
       " <tr style=\"text-align: left;\">\n",
       "      <th>Epoch</th>\n",
       "      <th>Training Loss</th>\n",
       "      <th>Validation Loss</th>\n",
       "      <th>Accuracy</th>\n",
       "      <th>F1 Macro</th>\n",
       "      <th>F1 Weighted</th>\n",
       "      <th>Qwk</th>\n",
       "    </tr>\n",
       "  </thead>\n",
       "  <tbody>\n",
       "    <tr>\n",
       "      <td>1</td>\n",
       "      <td>0.037300</td>\n",
       "      <td>1.498927</td>\n",
       "      <td>0.822615</td>\n",
       "      <td>0.814830</td>\n",
       "      <td>0.823567</td>\n",
       "      <td>0.857989</td>\n",
       "    </tr>\n",
       "    <tr>\n",
       "      <td>2</td>\n",
       "      <td>0.039100</td>\n",
       "      <td>1.326061</td>\n",
       "      <td>0.822615</td>\n",
       "      <td>0.812563</td>\n",
       "      <td>0.821878</td>\n",
       "      <td>0.858197</td>\n",
       "    </tr>\n",
       "    <tr>\n",
       "      <td>3</td>\n",
       "      <td>0.029600</td>\n",
       "      <td>1.418648</td>\n",
       "      <td>0.831021</td>\n",
       "      <td>0.821674</td>\n",
       "      <td>0.830777</td>\n",
       "      <td>0.864373</td>\n",
       "    </tr>\n",
       "    <tr>\n",
       "      <td>4</td>\n",
       "      <td>0.029500</td>\n",
       "      <td>1.397935</td>\n",
       "      <td>0.825557</td>\n",
       "      <td>0.815011</td>\n",
       "      <td>0.824455</td>\n",
       "      <td>0.863723</td>\n",
       "    </tr>\n",
       "    <tr>\n",
       "      <td>5</td>\n",
       "      <td>0.033300</td>\n",
       "      <td>1.360623</td>\n",
       "      <td>0.825977</td>\n",
       "      <td>0.816207</td>\n",
       "      <td>0.825877</td>\n",
       "      <td>0.860537</td>\n",
       "    </tr>\n",
       "  </tbody>\n",
       "</table><p>"
      ],
      "text/plain": [
       "<IPython.core.display.HTML object>"
      ]
     },
     "metadata": {},
     "output_type": "display_data"
    },
    {
     "data": {
      "text/html": [
       "\n",
       "    <div>\n",
       "      \n",
       "      <progress value='149' max='149' style='width:300px; height:20px; vertical-align: middle;'></progress>\n",
       "      [149/149 00:13]\n",
       "    </div>\n",
       "    "
      ],
      "text/plain": [
       "<IPython.core.display.HTML object>"
      ]
     },
     "metadata": {},
     "output_type": "display_data"
    },
    {
     "name": "stdout",
     "output_type": "stream",
     "text": [
      "\n",
      "Training with LR=3e-05, BS=16, WD=0.05, Epochs=4\n"
     ]
    },
    {
     "name": "stderr",
     "output_type": "stream",
     "text": [
      "/tmp/ipykernel_28166/995950262.py:45: FutureWarning: `tokenizer` is deprecated and will be removed in version 5.0.0 for `Trainer.__init__`. Use `processing_class` instead.\n",
      "  trainer = Trainer(\n"
     ]
    },
    {
     "data": {
      "text/html": [
       "\n",
       "    <div>\n",
       "      \n",
       "      <progress value='4760' max='4760' style='width:300px; height:20px; vertical-align: middle;'></progress>\n",
       "      [4760/4760 25:56, Epoch 4/4]\n",
       "    </div>\n",
       "    <table border=\"1\" class=\"dataframe\">\n",
       "  <thead>\n",
       " <tr style=\"text-align: left;\">\n",
       "      <th>Epoch</th>\n",
       "      <th>Training Loss</th>\n",
       "      <th>Validation Loss</th>\n",
       "      <th>Accuracy</th>\n",
       "      <th>F1 Macro</th>\n",
       "      <th>F1 Weighted</th>\n",
       "      <th>Qwk</th>\n",
       "    </tr>\n",
       "  </thead>\n",
       "  <tbody>\n",
       "    <tr>\n",
       "      <td>1</td>\n",
       "      <td>0.030700</td>\n",
       "      <td>1.296009</td>\n",
       "      <td>0.823035</td>\n",
       "      <td>0.814978</td>\n",
       "      <td>0.824110</td>\n",
       "      <td>0.856411</td>\n",
       "    </tr>\n",
       "    <tr>\n",
       "      <td>2</td>\n",
       "      <td>0.028300</td>\n",
       "      <td>1.437891</td>\n",
       "      <td>0.825977</td>\n",
       "      <td>0.813742</td>\n",
       "      <td>0.823049</td>\n",
       "      <td>0.860791</td>\n",
       "    </tr>\n",
       "    <tr>\n",
       "      <td>3</td>\n",
       "      <td>0.019200</td>\n",
       "      <td>1.554896</td>\n",
       "      <td>0.817991</td>\n",
       "      <td>0.809522</td>\n",
       "      <td>0.818721</td>\n",
       "      <td>0.851940</td>\n",
       "    </tr>\n",
       "    <tr>\n",
       "      <td>4</td>\n",
       "      <td>0.011700</td>\n",
       "      <td>1.564530</td>\n",
       "      <td>0.827659</td>\n",
       "      <td>0.817716</td>\n",
       "      <td>0.826602</td>\n",
       "      <td>0.859492</td>\n",
       "    </tr>\n",
       "  </tbody>\n",
       "</table><p>"
      ],
      "text/plain": [
       "<IPython.core.display.HTML object>"
      ]
     },
     "metadata": {},
     "output_type": "display_data"
    },
    {
     "data": {
      "text/html": [
       "\n",
       "    <div>\n",
       "      \n",
       "      <progress value='149' max='149' style='width:300px; height:20px; vertical-align: middle;'></progress>\n",
       "      [149/149 00:13]\n",
       "    </div>\n",
       "    "
      ],
      "text/plain": [
       "<IPython.core.display.HTML object>"
      ]
     },
     "metadata": {},
     "output_type": "display_data"
    },
    {
     "name": "stdout",
     "output_type": "stream",
     "text": [
      "\n",
      "Training with LR=3e-05, BS=16, WD=0.05, Epochs=5\n"
     ]
    },
    {
     "name": "stderr",
     "output_type": "stream",
     "text": [
      "/tmp/ipykernel_28166/995950262.py:45: FutureWarning: `tokenizer` is deprecated and will be removed in version 5.0.0 for `Trainer.__init__`. Use `processing_class` instead.\n",
      "  trainer = Trainer(\n"
     ]
    },
    {
     "data": {
      "text/html": [
       "\n",
       "    <div>\n",
       "      \n",
       "      <progress value='5950' max='5950' style='width:300px; height:20px; vertical-align: middle;'></progress>\n",
       "      [5950/5950 32:23, Epoch 5/5]\n",
       "    </div>\n",
       "    <table border=\"1\" class=\"dataframe\">\n",
       "  <thead>\n",
       " <tr style=\"text-align: left;\">\n",
       "      <th>Epoch</th>\n",
       "      <th>Training Loss</th>\n",
       "      <th>Validation Loss</th>\n",
       "      <th>Accuracy</th>\n",
       "      <th>F1 Macro</th>\n",
       "      <th>F1 Weighted</th>\n",
       "      <th>Qwk</th>\n",
       "    </tr>\n",
       "  </thead>\n",
       "  <tbody>\n",
       "    <tr>\n",
       "      <td>1</td>\n",
       "      <td>0.032700</td>\n",
       "      <td>1.428347</td>\n",
       "      <td>0.823455</td>\n",
       "      <td>0.815168</td>\n",
       "      <td>0.824029</td>\n",
       "      <td>0.856503</td>\n",
       "    </tr>\n",
       "    <tr>\n",
       "      <td>2</td>\n",
       "      <td>0.019100</td>\n",
       "      <td>1.544210</td>\n",
       "      <td>0.825977</td>\n",
       "      <td>0.815051</td>\n",
       "      <td>0.823834</td>\n",
       "      <td>0.858246</td>\n",
       "    </tr>\n",
       "    <tr>\n",
       "      <td>3</td>\n",
       "      <td>0.018900</td>\n",
       "      <td>1.425467</td>\n",
       "      <td>0.824296</td>\n",
       "      <td>0.812565</td>\n",
       "      <td>0.821510</td>\n",
       "      <td>0.854688</td>\n",
       "    </tr>\n",
       "    <tr>\n",
       "      <td>4</td>\n",
       "      <td>0.020200</td>\n",
       "      <td>1.408696</td>\n",
       "      <td>0.833544</td>\n",
       "      <td>0.824637</td>\n",
       "      <td>0.833409</td>\n",
       "      <td>0.864917</td>\n",
       "    </tr>\n",
       "    <tr>\n",
       "      <td>5</td>\n",
       "      <td>0.027600</td>\n",
       "      <td>1.519788</td>\n",
       "      <td>0.823876</td>\n",
       "      <td>0.813998</td>\n",
       "      <td>0.823474</td>\n",
       "      <td>0.859518</td>\n",
       "    </tr>\n",
       "  </tbody>\n",
       "</table><p>"
      ],
      "text/plain": [
       "<IPython.core.display.HTML object>"
      ]
     },
     "metadata": {},
     "output_type": "display_data"
    },
    {
     "data": {
      "text/html": [
       "\n",
       "    <div>\n",
       "      \n",
       "      <progress value='149' max='149' style='width:300px; height:20px; vertical-align: middle;'></progress>\n",
       "      [149/149 00:13]\n",
       "    </div>\n",
       "    "
      ],
      "text/plain": [
       "<IPython.core.display.HTML object>"
      ]
     },
     "metadata": {},
     "output_type": "display_data"
    },
    {
     "name": "stdout",
     "output_type": "stream",
     "text": [
      "\n",
      "Training with LR=3e-05, BS=32, WD=0.01, Epochs=4\n"
     ]
    },
    {
     "name": "stderr",
     "output_type": "stream",
     "text": [
      "/tmp/ipykernel_28166/995950262.py:45: FutureWarning: `tokenizer` is deprecated and will be removed in version 5.0.0 for `Trainer.__init__`. Use `processing_class` instead.\n",
      "  trainer = Trainer(\n"
     ]
    },
    {
     "data": {
      "text/html": [
       "\n",
       "    <div>\n",
       "      \n",
       "      <progress value='2380' max='2380' style='width:300px; height:20px; vertical-align: middle;'></progress>\n",
       "      [2380/2380 23:50, Epoch 4/4]\n",
       "    </div>\n",
       "    <table border=\"1\" class=\"dataframe\">\n",
       "  <thead>\n",
       " <tr style=\"text-align: left;\">\n",
       "      <th>Epoch</th>\n",
       "      <th>Training Loss</th>\n",
       "      <th>Validation Loss</th>\n",
       "      <th>Accuracy</th>\n",
       "      <th>F1 Macro</th>\n",
       "      <th>F1 Weighted</th>\n",
       "      <th>Qwk</th>\n",
       "    </tr>\n",
       "  </thead>\n",
       "  <tbody>\n",
       "    <tr>\n",
       "      <td>1</td>\n",
       "      <td>0.028500</td>\n",
       "      <td>1.372817</td>\n",
       "      <td>0.823455</td>\n",
       "      <td>0.812802</td>\n",
       "      <td>0.822235</td>\n",
       "      <td>0.860682</td>\n",
       "    </tr>\n",
       "    <tr>\n",
       "      <td>2</td>\n",
       "      <td>0.025500</td>\n",
       "      <td>1.398447</td>\n",
       "      <td>0.824716</td>\n",
       "      <td>0.811156</td>\n",
       "      <td>0.820561</td>\n",
       "      <td>0.864412</td>\n",
       "    </tr>\n",
       "    <tr>\n",
       "      <td>3</td>\n",
       "      <td>0.020500</td>\n",
       "      <td>1.334589</td>\n",
       "      <td>0.831862</td>\n",
       "      <td>0.822528</td>\n",
       "      <td>0.831620</td>\n",
       "      <td>0.862154</td>\n",
       "    </tr>\n",
       "    <tr>\n",
       "      <td>4</td>\n",
       "      <td>0.019400</td>\n",
       "      <td>1.437721</td>\n",
       "      <td>0.831442</td>\n",
       "      <td>0.821674</td>\n",
       "      <td>0.830634</td>\n",
       "      <td>0.864817</td>\n",
       "    </tr>\n",
       "  </tbody>\n",
       "</table><p>"
      ],
      "text/plain": [
       "<IPython.core.display.HTML object>"
      ]
     },
     "metadata": {},
     "output_type": "display_data"
    },
    {
     "data": {
      "text/html": [
       "\n",
       "    <div>\n",
       "      \n",
       "      <progress value='75' max='75' style='width:300px; height:20px; vertical-align: middle;'></progress>\n",
       "      [75/75 00:13]\n",
       "    </div>\n",
       "    "
      ],
      "text/plain": [
       "<IPython.core.display.HTML object>"
      ]
     },
     "metadata": {},
     "output_type": "display_data"
    },
    {
     "name": "stdout",
     "output_type": "stream",
     "text": [
      "\n",
      "Training with LR=3e-05, BS=32, WD=0.01, Epochs=5\n"
     ]
    },
    {
     "name": "stderr",
     "output_type": "stream",
     "text": [
      "/tmp/ipykernel_28166/995950262.py:45: FutureWarning: `tokenizer` is deprecated and will be removed in version 5.0.0 for `Trainer.__init__`. Use `processing_class` instead.\n",
      "  trainer = Trainer(\n"
     ]
    },
    {
     "data": {
      "text/html": [
       "\n",
       "    <div>\n",
       "      \n",
       "      <progress value='2975' max='2975' style='width:300px; height:20px; vertical-align: middle;'></progress>\n",
       "      [2975/2975 29:45, Epoch 5/5]\n",
       "    </div>\n",
       "    <table border=\"1\" class=\"dataframe\">\n",
       "  <thead>\n",
       " <tr style=\"text-align: left;\">\n",
       "      <th>Epoch</th>\n",
       "      <th>Training Loss</th>\n",
       "      <th>Validation Loss</th>\n",
       "      <th>Accuracy</th>\n",
       "      <th>F1 Macro</th>\n",
       "      <th>F1 Weighted</th>\n",
       "      <th>Qwk</th>\n",
       "    </tr>\n",
       "  </thead>\n",
       "  <tbody>\n",
       "    <tr>\n",
       "      <td>1</td>\n",
       "      <td>0.021800</td>\n",
       "      <td>1.446561</td>\n",
       "      <td>0.827238</td>\n",
       "      <td>0.817645</td>\n",
       "      <td>0.826746</td>\n",
       "      <td>0.855759</td>\n",
       "    </tr>\n",
       "    <tr>\n",
       "      <td>2</td>\n",
       "      <td>0.016000</td>\n",
       "      <td>1.531243</td>\n",
       "      <td>0.825977</td>\n",
       "      <td>0.813973</td>\n",
       "      <td>0.823159</td>\n",
       "      <td>0.862367</td>\n",
       "    </tr>\n",
       "    <tr>\n",
       "      <td>3</td>\n",
       "      <td>0.016400</td>\n",
       "      <td>1.546104</td>\n",
       "      <td>0.825557</td>\n",
       "      <td>0.817371</td>\n",
       "      <td>0.826123</td>\n",
       "      <td>0.856994</td>\n",
       "    </tr>\n",
       "    <tr>\n",
       "      <td>4</td>\n",
       "      <td>0.018000</td>\n",
       "      <td>1.533530</td>\n",
       "      <td>0.824296</td>\n",
       "      <td>0.814723</td>\n",
       "      <td>0.823932</td>\n",
       "      <td>0.858193</td>\n",
       "    </tr>\n",
       "    <tr>\n",
       "      <td>5</td>\n",
       "      <td>0.023400</td>\n",
       "      <td>1.447543</td>\n",
       "      <td>0.828079</td>\n",
       "      <td>0.818365</td>\n",
       "      <td>0.827417</td>\n",
       "      <td>0.860956</td>\n",
       "    </tr>\n",
       "  </tbody>\n",
       "</table><p>"
      ],
      "text/plain": [
       "<IPython.core.display.HTML object>"
      ]
     },
     "metadata": {},
     "output_type": "display_data"
    },
    {
     "data": {
      "text/html": [
       "\n",
       "    <div>\n",
       "      \n",
       "      <progress value='75' max='75' style='width:300px; height:20px; vertical-align: middle;'></progress>\n",
       "      [75/75 00:13]\n",
       "    </div>\n",
       "    "
      ],
      "text/plain": [
       "<IPython.core.display.HTML object>"
      ]
     },
     "metadata": {},
     "output_type": "display_data"
    },
    {
     "name": "stdout",
     "output_type": "stream",
     "text": [
      "\n",
      "Training with LR=3e-05, BS=32, WD=0.05, Epochs=4\n"
     ]
    },
    {
     "name": "stderr",
     "output_type": "stream",
     "text": [
      "/tmp/ipykernel_28166/995950262.py:45: FutureWarning: `tokenizer` is deprecated and will be removed in version 5.0.0 for `Trainer.__init__`. Use `processing_class` instead.\n",
      "  trainer = Trainer(\n"
     ]
    },
    {
     "data": {
      "text/html": [
       "\n",
       "    <div>\n",
       "      \n",
       "      <progress value='2380' max='2380' style='width:300px; height:20px; vertical-align: middle;'></progress>\n",
       "      [2380/2380 23:53, Epoch 4/4]\n",
       "    </div>\n",
       "    <table border=\"1\" class=\"dataframe\">\n",
       "  <thead>\n",
       " <tr style=\"text-align: left;\">\n",
       "      <th>Epoch</th>\n",
       "      <th>Training Loss</th>\n",
       "      <th>Validation Loss</th>\n",
       "      <th>Accuracy</th>\n",
       "      <th>F1 Macro</th>\n",
       "      <th>F1 Weighted</th>\n",
       "      <th>Qwk</th>\n",
       "    </tr>\n",
       "  </thead>\n",
       "  <tbody>\n",
       "    <tr>\n",
       "      <td>1</td>\n",
       "      <td>0.019700</td>\n",
       "      <td>1.563964</td>\n",
       "      <td>0.823876</td>\n",
       "      <td>0.813702</td>\n",
       "      <td>0.822775</td>\n",
       "      <td>0.857043</td>\n",
       "    </tr>\n",
       "    <tr>\n",
       "      <td>2</td>\n",
       "      <td>0.014400</td>\n",
       "      <td>1.510752</td>\n",
       "      <td>0.825557</td>\n",
       "      <td>0.814618</td>\n",
       "      <td>0.823273</td>\n",
       "      <td>0.852290</td>\n",
       "    </tr>\n",
       "    <tr>\n",
       "      <td>3</td>\n",
       "      <td>0.006500</td>\n",
       "      <td>1.542016</td>\n",
       "      <td>0.828079</td>\n",
       "      <td>0.818527</td>\n",
       "      <td>0.827785</td>\n",
       "      <td>0.858918</td>\n",
       "    </tr>\n",
       "    <tr>\n",
       "      <td>4</td>\n",
       "      <td>0.007500</td>\n",
       "      <td>1.616213</td>\n",
       "      <td>0.825977</td>\n",
       "      <td>0.816827</td>\n",
       "      <td>0.826025</td>\n",
       "      <td>0.858778</td>\n",
       "    </tr>\n",
       "  </tbody>\n",
       "</table><p>"
      ],
      "text/plain": [
       "<IPython.core.display.HTML object>"
      ]
     },
     "metadata": {},
     "output_type": "display_data"
    },
    {
     "data": {
      "text/html": [
       "\n",
       "    <div>\n",
       "      \n",
       "      <progress value='75' max='75' style='width:300px; height:20px; vertical-align: middle;'></progress>\n",
       "      [75/75 00:13]\n",
       "    </div>\n",
       "    "
      ],
      "text/plain": [
       "<IPython.core.display.HTML object>"
      ]
     },
     "metadata": {},
     "output_type": "display_data"
    },
    {
     "name": "stdout",
     "output_type": "stream",
     "text": [
      "\n",
      "Training with LR=3e-05, BS=32, WD=0.05, Epochs=5\n"
     ]
    },
    {
     "name": "stderr",
     "output_type": "stream",
     "text": [
      "/tmp/ipykernel_28166/995950262.py:45: FutureWarning: `tokenizer` is deprecated and will be removed in version 5.0.0 for `Trainer.__init__`. Use `processing_class` instead.\n",
      "  trainer = Trainer(\n"
     ]
    },
    {
     "data": {
      "text/html": [
       "\n",
       "    <div>\n",
       "      \n",
       "      <progress value='2975' max='2975' style='width:300px; height:20px; vertical-align: middle;'></progress>\n",
       "      [2975/2975 29:45, Epoch 5/5]\n",
       "    </div>\n",
       "    <table border=\"1\" class=\"dataframe\">\n",
       "  <thead>\n",
       " <tr style=\"text-align: left;\">\n",
       "      <th>Epoch</th>\n",
       "      <th>Training Loss</th>\n",
       "      <th>Validation Loss</th>\n",
       "      <th>Accuracy</th>\n",
       "      <th>F1 Macro</th>\n",
       "      <th>F1 Weighted</th>\n",
       "      <th>Qwk</th>\n",
       "    </tr>\n",
       "  </thead>\n",
       "  <tbody>\n",
       "    <tr>\n",
       "      <td>1</td>\n",
       "      <td>0.016500</td>\n",
       "      <td>1.542514</td>\n",
       "      <td>0.820933</td>\n",
       "      <td>0.810407</td>\n",
       "      <td>0.819642</td>\n",
       "      <td>0.854871</td>\n",
       "    </tr>\n",
       "    <tr>\n",
       "      <td>2</td>\n",
       "      <td>0.011800</td>\n",
       "      <td>1.495438</td>\n",
       "      <td>0.819252</td>\n",
       "      <td>0.808251</td>\n",
       "      <td>0.817417</td>\n",
       "      <td>0.845610</td>\n",
       "    </tr>\n",
       "    <tr>\n",
       "      <td>3</td>\n",
       "      <td>0.007500</td>\n",
       "      <td>1.564303</td>\n",
       "      <td>0.821774</td>\n",
       "      <td>0.811027</td>\n",
       "      <td>0.820142</td>\n",
       "      <td>0.852646</td>\n",
       "    </tr>\n",
       "    <tr>\n",
       "      <td>4</td>\n",
       "      <td>0.007000</td>\n",
       "      <td>1.667226</td>\n",
       "      <td>0.824716</td>\n",
       "      <td>0.815523</td>\n",
       "      <td>0.824621</td>\n",
       "      <td>0.855912</td>\n",
       "    </tr>\n",
       "    <tr>\n",
       "      <td>5</td>\n",
       "      <td>0.020100</td>\n",
       "      <td>1.547134</td>\n",
       "      <td>0.824716</td>\n",
       "      <td>0.815642</td>\n",
       "      <td>0.824753</td>\n",
       "      <td>0.856183</td>\n",
       "    </tr>\n",
       "  </tbody>\n",
       "</table><p>"
      ],
      "text/plain": [
       "<IPython.core.display.HTML object>"
      ]
     },
     "metadata": {},
     "output_type": "display_data"
    },
    {
     "data": {
      "text/html": [
       "\n",
       "    <div>\n",
       "      \n",
       "      <progress value='75' max='75' style='width:300px; height:20px; vertical-align: middle;'></progress>\n",
       "      [75/75 00:13]\n",
       "    </div>\n",
       "    "
      ],
      "text/plain": [
       "<IPython.core.display.HTML object>"
      ]
     },
     "metadata": {},
     "output_type": "display_data"
    },
    {
     "name": "stdout",
     "output_type": "stream",
     "text": [
      "\n",
      "Best params: LR=2e-05, BS=32, WD=0.01, Epochs=5 (QWK=0.8666)\n"
     ]
    }
   ],
   "source": [
    "from transformers import Trainer, TrainingArguments\n",
    "import numpy as np\n",
    "from sklearn.metrics import accuracy_score, f1_score, cohen_kappa_score\n",
    "\n",
    "def compute_metrics(eval_pred):\n",
    "    predictions, labels = eval_pred\n",
    "    predictions = np.argmax(predictions, axis=1)\n",
    "\n",
    "    return {\n",
    "        \"eval_accuracy\": accuracy_score(labels, predictions),\n",
    "        \"eval_f1_macro\": f1_score(labels, predictions, average=\"macro\"),\n",
    "        \"eval_f1_weighted\": f1_score(labels, predictions, average=\"weighted\"),\n",
    "        \"eval_qwk\": cohen_kappa_score(labels, predictions, weights=\"quadratic\"),  # NEW\n",
    "    }\n",
    "\n",
    "# Hyperparameters\n",
    "learning_rates = [1e-5, 2e-5, 3e-5]\n",
    "batch_sizes = [16, 32]\n",
    "weight_decays = [0.01, 0.05]\n",
    "epoch_options = [4, 5]\n",
    "\n",
    "best_score = -float(\"inf\")\n",
    "best_params = None\n",
    "training_history = []\n",
    "\n",
    "for lr in learning_rates:\n",
    "    for batch_size in batch_sizes:\n",
    "        for wd in weight_decays:\n",
    "            for epochs in epoch_options:\n",
    "                print(f\"\\nTraining with LR={lr}, BS={batch_size}, WD={wd}, Epochs={epochs}\")\n",
    "\n",
    "                training_args = TrainingArguments(\n",
    "                    output_dir=\"./results\",\n",
    "                    eval_strategy=\"epoch\",\n",
    "                    save_strategy=\"no\",\n",
    "                    learning_rate=lr,\n",
    "                    per_device_train_batch_size=batch_size,\n",
    "                    per_device_eval_batch_size=batch_size,\n",
    "                    num_train_epochs=epochs,\n",
    "                    weight_decay=wd,\n",
    "                    logging_strategy=\"epoch\",\n",
    "                    report_to=\"none\"\n",
    "                )\n",
    "\n",
    "                trainer = Trainer(\n",
    "                    model=model,\n",
    "                    args=training_args,\n",
    "                    train_dataset=tokenized_datasets[\"train\"],\n",
    "                    eval_dataset=tokenized_datasets[\"validation\"],\n",
    "                    tokenizer=tokenizer,\n",
    "                    compute_metrics=compute_metrics\n",
    "                )\n",
    "\n",
    "                train_result = trainer.train()\n",
    "                eval_metrics = trainer.evaluate()\n",
    "\n",
    "                eval_metrics.update({\n",
    "                    \"learning_rate\": lr,\n",
    "                    \"batch_size\": batch_size,\n",
    "                    \"weight_decay\": wd,\n",
    "                    \"epochs\": epochs,\n",
    "                    \"train_loss\": train_result.training_loss\n",
    "                })\n",
    "                training_history.append(eval_metrics)\n",
    "\n",
    "\n",
    "                if eval_metrics[\"eval_qwk\"] > best_score:\n",
    "                    best_score = eval_metrics[\"eval_qwk\"]\n",
    "                    best_params = (lr, batch_size, wd, epochs)\n",
    "\n",
    "print(f\"\\nBest params: LR={best_params[0]}, BS={best_params[1]}, WD={best_params[2]}, \"\n",
    "      f\"Epochs={best_params[3]} (QWK={best_score:.4f})\")\n"
   ]
  }
 ],
 "metadata": {
  "kernelspec": {
   "display_name": "ai",
   "language": "python",
   "name": "python3"
  },
  "language_info": {
   "codemirror_mode": {
    "name": "ipython",
    "version": 3
   },
   "file_extension": ".py",
   "mimetype": "text/x-python",
   "name": "python",
   "nbconvert_exporter": "python",
   "pygments_lexer": "ipython3",
   "version": "3.13.2"
  }
 },
 "nbformat": 4,
 "nbformat_minor": 5
}
