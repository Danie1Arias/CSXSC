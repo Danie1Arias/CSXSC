{
 "cells": [
  {
   "cell_type": "code",
   "execution_count": 1,
   "id": "5f444ee9",
   "metadata": {},
   "outputs": [
    {
     "name": "stdout",
     "output_type": "stream",
     "text": [
      "GPU is available\n"
     ]
    }
   ],
   "source": [
    "import torch\n",
    "\n",
    "if torch.cuda.is_available():\n",
    "    print(\"GPU is available\")\n",
    "else:\n",
    "    print(\"GPU is not available\")"
   ]
  },
  {
   "cell_type": "markdown",
   "id": "fa1fc6f3",
   "metadata": {},
   "source": [
    "# Classificador de Sentiments a Xarxes Socials en Català (CSXSC): Dataset\n",
    "\n",
    "**Author:** Daniel Arias Cámara  \n",
    "**Date:** 25-07-2025  \n",
    "\n",
    "**Description:**  This notebook aims to build a high-quality dataset for fine-tuning the **CSXSC** model. The dataset is constructed by combining trusted data sources, including structured sentiment corpora and translated social media content. Details on data origin and preprocessing steps are provided in the sections below.\n"
   ]
  },
  {
   "cell_type": "markdown",
   "id": "dcfd3695",
   "metadata": {},
   "source": [
    "## 1. GuiaCat Dataset"
   ]
  },
  {
   "cell_type": "markdown",
   "id": "9902f794",
   "metadata": {},
   "source": [
    "**Description:** This dataset consists of 5,750 restaurant reviews in Catalan, sourced from the GuiaCat platform. Each review includes individual ratings for service, food, price-quality ratio, and atmosphere, along with an overall average score.\n",
    "\n",
    "**Access:** [projecte-aina/GuiaCat on Hugging Face](https://huggingface.co/datasets/projecte-aina/GuiaCat)\n",
    "\n",
    "**Source:** Aina Project\n",
    "\n",
    "**Notes:**  \n",
    "The dataset is divided into three subsets:  \n",
    "- **Train:** 1,750 rows  \n",
    "- **Validation:** 500 rows  \n",
    "- **Test:** 500 rows  \n",
    "\n",
    "The original fields are: Service, Food, Price-quality, Environment, Avg, Text, and Label.  \n",
    "For our purposes, we retain only the Text and Label fields, discarding the rest.\n",
    "\n",
    "The Label field includes five sentiment categories:  \n",
    "- Molt bo (Very good)  \n",
    "- Bo (Good)  \n",
    "- Regular (Average)  \n",
    "- Dolent (Bad)  \n",
    "- Molt dolent (Very bad)\n",
    "\n",
    "These are grouped into three classes for sentiment classification:  \n",
    "- **Positive:** Molt bo and Bo  \n",
    "- **Neutral:** Regular  \n",
    "- **Negative:** Dolent and Molt dolent\n"
   ]
  },
  {
   "cell_type": "code",
   "execution_count": 5,
   "id": "6d57d28e",
   "metadata": {},
   "outputs": [
    {
     "name": "stderr",
     "output_type": "stream",
     "text": [
      "Creating CSV from Arrow format: 100%|██████████| 5/5 [00:00<00:00, 316.32ba/s]\n",
      "Creating CSV from Arrow format: 100%|██████████| 1/1 [00:00<00:00, 401.64ba/s]\n",
      "Creating CSV from Arrow format: 100%|██████████| 1/1 [00:00<00:00, 424.27ba/s]"
     ]
    },
    {
     "name": "stdout",
     "output_type": "stream",
     "text": [
      "Train: {'text': 'El lloc és acollidor. El tracte, familiar. Els plats són casolans, abundants i de qualitat! Productes de la terra com embutits i altres de la zona. Hi tornarem segur!', 'label': 'positive'}\n",
      "Validation: {'text': 'Bon Menjar i bon tracte en un restaurant que segú hi tornaràs un altre vegada.', 'label': 'positive'}\n",
      "Test: {'text': \"Fantàstic restaurant ,una carta plena de plats creatius i cuina de temporada que sempre es d'agrair , i el que varem menjar nosaltres molt bé, estic segura que tornaré no ho dubtaré.El tracte bó i l'espai molt acollidor.\", 'label': 'positive'}\n"
     ]
    },
    {
     "name": "stderr",
     "output_type": "stream",
     "text": [
      "\n"
     ]
    }
   ],
   "source": [
    "import os\n",
    "\n",
    "try:\n",
    "    import datasets\n",
    "except ImportError:\n",
    "    import subprocess\n",
    "    subprocess.check_call([\"pip\", \"install\", \"-q\", \"datasets\"])\n",
    "\n",
    "from datasets import load_dataset\n",
    "\n",
    "ds_guiacat = load_dataset(\"projecte-aina/GuiaCat\")\n",
    "ds = {}\n",
    "\n",
    "for split in ds_guiacat:\n",
    "    drop_columns = [col for col in ds_guiacat[split].column_names if col not in [\"text\", \"label\"]]\n",
    "    ds[split] = ds_guiacat[split].remove_columns(drop_columns)\n",
    "\n",
    "    def relabel(opinion):\n",
    "        label = opinion[\"label\"].lower()\n",
    "        if label in [\"molt bo\", \"bo\"]:\n",
    "            opinion[\"label\"] = \"positive\"\n",
    "        elif label == \"regular\":\n",
    "            opinion[\"label\"] = \"neutral\"\n",
    "        elif label in [\"dolent\", \"molt dolent\"]:\n",
    "            opinion[\"label\"] = \"negative\"\n",
    "        return opinion\n",
    "\n",
    "    ds[split] = ds[split].map(relabel)\n",
    "\n",
    "output_dirs = {\n",
    "    \"train\": \"train\",\n",
    "    \"validation\": \"validate\",\n",
    "    \"test\": \"test\"\n",
    "}\n",
    "\n",
    "for split in ['train', 'validation', 'test']:\n",
    "    os.makedirs(split, exist_ok=True)\n",
    "    output_path = os.path.join(split, \"guiacat.csv\")\n",
    "    ds[split].to_csv(output_path, index=False)\n",
    "\n",
    "print(\"Train:\", ds[\"train\"][0])\n",
    "print(\"Validation:\", ds[\"validation\"][0])\n",
    "print(\"Test:\", ds[\"test\"][0])"
   ]
  }
 ],
 "metadata": {
  "kernelspec": {
   "display_name": "ai",
   "language": "python",
   "name": "python3"
  },
  "language_info": {
   "codemirror_mode": {
    "name": "ipython",
    "version": 3
   },
   "file_extension": ".py",
   "mimetype": "text/x-python",
   "name": "python",
   "nbconvert_exporter": "python",
   "pygments_lexer": "ipython3",
   "version": "3.13.2"
  }
 },
 "nbformat": 4,
 "nbformat_minor": 5
}
